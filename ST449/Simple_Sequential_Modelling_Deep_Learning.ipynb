{
  "nbformat": 4,
  "nbformat_minor": 0,
  "metadata": {
    "colab": {
      "name": "Simple Sequential Modelling Deep Learning",
      "provenance": []
    },
    "kernelspec": {
      "name": "python3",
      "display_name": "Python 3"
    }
  },
  "cells": [
    {
      "cell_type": "markdown",
      "metadata": {
        "id": "OX-n525QR_E-"
      },
      "source": [
        "Simple Sequential Modelling with different optimisers using MNIST dataset."
      ]
    },
    {
      "cell_type": "code",
      "metadata": {
        "id": "G2di4a9zSACw"
      },
      "source": [
        "import tensorflow as tf\n",
        "from tensorflow import keras\n",
        "from tensorflow.keras import layers\n",
        "import numpy as np\n",
        "import pandas as pd\n",
        "import math\n",
        "import matplotlib.pyplot as plt\n",
        "import IPython.display as display\n",
        "import tensorflow_datasets as tfds"
      ],
      "execution_count": 1,
      "outputs": []
    },
    {
      "cell_type": "markdown",
      "metadata": {
        "id": "5VDaTS9_KdXM"
      },
      "source": [
        "## Network Construction"
      ]
    },
    {
      "cell_type": "markdown",
      "metadata": {
        "id": "LJal3utFF9hT"
      },
      "source": [
        "### Hyperparameter"
      ]
    },
    {
      "cell_type": "code",
      "metadata": {
        "id": "UDyECIeOCM9r"
      },
      "source": [
        "EPOCHS = 45\n",
        "BATCH_SIZE = 128\n",
        "LR_RATE = 0.001\n",
        "MOMENTUM = 0.7\n",
        "L2_LAMBDA = 0.01"
      ],
      "execution_count": 2,
      "outputs": []
    },
    {
      "cell_type": "markdown",
      "metadata": {
        "id": "OozRE5ol3esp"
      },
      "source": [
        " ### Data"
      ]
    },
    {
      "cell_type": "code",
      "metadata": {
        "id": "yKrIb6zh3aSa",
        "colab": {
          "base_uri": "https://localhost:8080/"
        },
        "outputId": "c6219e5f-d7a5-4531-ac13-3fa0ad56e4f9"
      },
      "source": [
        "(x_train, y_train), (x_test, y_test) = tf.keras.datasets.mnist.load_data()\n",
        "\n",
        "# Preprocess the data.\n",
        "x_train = x_train.reshape(60000, 784).astype(\"float32\") / 255\n",
        "x_test = x_test.reshape(10000, 784).astype(\"float32\") / 255\n",
        "\n",
        "y_train = y_train.astype(\"float32\")\n",
        "y_test = y_test.astype(\"float32\")\n",
        "\n",
        "# Convert class vectors to binary class matrices.\n",
        "y_train = keras.utils.to_categorical(y_train, 10)\n",
        "y_test = keras.utils.to_categorical(y_test, 10)"
      ],
      "execution_count": 3,
      "outputs": [
        {
          "output_type": "stream",
          "text": [
            "Downloading data from https://storage.googleapis.com/tensorflow/tf-keras-datasets/mnist.npz\n",
            "11493376/11490434 [==============================] - 0s 0us/step\n"
          ],
          "name": "stdout"
        }
      ]
    },
    {
      "cell_type": "markdown",
      "metadata": {
        "id": "16wM0fSzFmoo"
      },
      "source": [
        "### Loss Function"
      ]
    },
    {
      "cell_type": "markdown",
      "metadata": {
        "id": "oGLLtxUAFahu"
      },
      "source": [
        "#### L2 Regularisation"
      ]
    },
    {
      "cell_type": "code",
      "metadata": {
        "id": "IwK5_iro5QLB"
      },
      "source": [
        "class RegularisedLayer(layers.Layer):\n",
        "    def call(self, inputs):\n",
        "        self.add_loss(tf.reduce_sum(inputs**2) * L2_LAMBDA)\n",
        "        return inputs  # Pass-through layer."
      ],
      "execution_count": 4,
      "outputs": []
    },
    {
      "cell_type": "markdown",
      "metadata": {
        "id": "mgAmt0EVFf4e"
      },
      "source": [
        "#### Cross Entropy"
      ]
    },
    {
      "cell_type": "code",
      "metadata": {
        "id": "edgWilmz5ReV"
      },
      "source": [
        "class CrossEntropy(keras.losses.Loss):\n",
        "    def __init__(self, name=\"loss\"):\n",
        "        super().__init__(name=name)\n",
        "\n",
        "    def call(self, y_true, y_pred):\n",
        "      # y_true_one_hot = tf.one_hot(y_true, depth=10)\n",
        "\n",
        "      # Replace prediction values to avoid log(0) error.\n",
        "      y_pred = tf.clip_by_value(y_pred, 1e-15, 1.)\n",
        "      # Cross entropy.\n",
        "      entropy = tf.reduce_mean(-tf.reduce_sum(y_true * tf.math.log(y_pred), 1))\n",
        "      return entropy"
      ],
      "execution_count": 5,
      "outputs": []
    },
    {
      "cell_type": "markdown",
      "metadata": {
        "id": "YrTJiaoyKpdW"
      },
      "source": [
        "### Learning Rate Decay Schedule"
      ]
    },
    {
      "cell_type": "code",
      "metadata": {
        "colab": {
          "base_uri": "https://localhost:8080/",
          "height": 419
        },
        "id": "NyguKlJJKa5l",
        "outputId": "af78fd4a-3e3d-4d10-ffd4-ad36eeeda938"
      },
      "source": [
        "# Learning rate decay function.\n",
        "def lr_decay(epoch):\n",
        "  return LR_RATE / math.sqrt(1+epoch)\n",
        "\n",
        "# Utility callback that reflects the learning rate decay.\n",
        "lr_decay_callback = tf.keras.callbacks.LearningRateScheduler(lr_decay, verbose=True)\n",
        "\n",
        "def plot_learning_rate(lr_func, epochs):\n",
        "  xx = np.arange(epochs+1, dtype=np.float)\n",
        "  y = [lr_decay(x) for x in xx]\n",
        "  fig, ax = plt.subplots(figsize=(9, 6))\n",
        "  ax.set_xlabel('epochs')\n",
        "  ax.set_title('Learning rate\\ndecays from {:0.3g} to {:0.3g}'.format(y[0], y[-2]))\n",
        "  ax.minorticks_on()\n",
        "  ax.grid(True, which='major', axis='both', linestyle='-', linewidth=1)\n",
        "  ax.grid(True, which='minor', axis='both', linestyle=':', linewidth=0.5)\n",
        "  ax.step(xx,y, linewidth=3, where='post')\n",
        "\n",
        "# Display the learning rate decay.\n",
        "plot_learning_rate(lr_decay, EPOCHS)"
      ],
      "execution_count": 6,
      "outputs": [
        {
          "output_type": "display_data",
          "data": {
            "image/png": "[encoded data removed]",
            "text/plain": [
              "<Figure size 648x432 with 1 Axes>"
            ]
          },
          "metadata": {
            "tags": [],
            "needs_background": "light"
          }
        }
      ]
    },
    {
      "cell_type": "markdown",
      "metadata": {
        "id": "mo5DKmolUrCU"
      },
      "source": [
        "### Visualisation functions"
      ]
    },
    {
      "cell_type": "code",
      "metadata": {
        "id": "GWg9699_Up5b"
      },
      "source": [
        "def accuracy_result(model):\n",
        "  # Result for accuracy.\n",
        "  plt.plot(model.history['accuracy'])\n",
        "  plt.plot(model.history['val_accuracy'])\n",
        "  plt.title('model accuracy')\n",
        "  plt.ylabel('accuracy')\n",
        "  plt.xlabel('epoch')\n",
        "  plt.legend(['train', 'test'], loc='upper left')\n",
        "  plt.show()"
      ],
      "execution_count": 7,
      "outputs": []
    },
    {
      "cell_type": "code",
      "metadata": {
        "id": "CXLh6EwXUuSH"
      },
      "source": [
        "def loss_result(model):\n",
        "  # Result for loss.\n",
        "  plt.plot(model.history['loss'])\n",
        "  plt.plot(model.history['val_loss'])\n",
        "  plt.title('model loss')\n",
        "  plt.ylabel('loss')\n",
        "  plt.xlabel('epoch')\n",
        "  plt.legend(['train', 'test'], loc='upper left')\n",
        "  plt.show()"
      ],
      "execution_count": 8,
      "outputs": []
    },
    {
      "cell_type": "markdown",
      "metadata": {
        "id": "aiWyr_L8Fq48"
      },
      "source": [
        "### Network Architecture"
      ]
    },
    {
      "cell_type": "code",
      "metadata": {
        "id": "3UnsMU4B9xIq"
      },
      "source": [
        "class LogitNetwork(tf.keras.Model):\n",
        "\n",
        "  def __init__(self):\n",
        "    super(LogitNetwork, self).__init__()\n",
        "\n",
        "    # Initialising the network layer.\n",
        "    self.initialiser = tf.keras.initializers.RandomNormal(mean=0., stddev=1.)\n",
        "\n",
        "  def initialise(self):\n",
        "    # Network design.\n",
        "    model = tf.keras.Sequential() # Initial network.\n",
        "    model.add(RegularisedLayer())\n",
        "    model.add(tf.keras.layers.Dense(10, \n",
        "                                activation='softmax', \n",
        "                                kernel_initializer=self.initialiser,\n",
        "                                #kernel_regularizer=tf.keras.regularizers.L2(0.01)\n",
        "                                )) # Output layer.\n",
        "    return model\n",
        "    \n",
        "\n",
        "  def __call__(self, optimiser):\n",
        "    model = self.initialise()\n",
        "    model.compile(optimizer=optimiser, \n",
        "                  loss=CrossEntropy(),\n",
        "                  metrics=[\"accuracy\"]\n",
        "                  )\n",
        "    \n",
        "    return model"
      ],
      "execution_count": 9,
      "outputs": []
    },
    {
      "cell_type": "markdown",
      "metadata": {
        "id": "VduLSwa3GAaB"
      },
      "source": [
        "## Network initialisation"
      ]
    },
    {
      "cell_type": "code",
      "metadata": {
        "id": "frXH8TbNDA03"
      },
      "source": [
        "model = LogitNetwork()"
      ],
      "execution_count": 10,
      "outputs": []
    },
    {
      "cell_type": "markdown",
      "metadata": {
        "id": "ShtPpkcaGCeu"
      },
      "source": [
        "## Testing different optimisers"
      ]
    },
    {
      "cell_type": "code",
      "metadata": {
        "id": "JtzXMZSPG7Vx"
      },
      "source": [
        "# Dictionary of 4 different optimisers.\n",
        "optimiser_list = {\n",
        "    \"SGD\": tf.optimizers.SGD(learning_rate=LR_RATE, momentum=MOMENTUM, name=\"SGD\"),\n",
        "    \"Nesterov\": tf.keras.optimizers.SGD(learning_rate=LR_RATE, momentum=MOMENTUM, nesterov=True, name='Nesterov'),\n",
        "    \"AdaGrad\": tf.keras.optimizers.Adagrad(learning_rate=LR_RATE, name='AdaGrad'),\n",
        "    \"ADAM\": tf.keras.optimizers.Adam(learning_rate=LR_RATE, name='ADAM')\n",
        "}"
      ],
      "execution_count": 11,
      "outputs": []
    },
    {
      "cell_type": "code",
      "metadata": {
        "colab": {
          "base_uri": "https://localhost:8080/"
        },
        "id": "dGF71o4AHXqY",
        "outputId": "718b433d-e33a-4bbf-b732-5313854e966c"
      },
      "source": [
        "# Looping through 4 different optimisers.\n",
        "def loop_model(optimiser_list, x_train, y_train, BATCH_SIZE, EPOCHS):\n",
        "\n",
        "  # Initialise output dictionary.\n",
        "  model_config = {}\n",
        "  model_history = {}\n",
        "\n",
        "  # Implement optimiser and fitting the network.\n",
        "  for key, item in optimiser_list.items():\n",
        "    print(\"\\n\")\n",
        "    print(f\"#### {key} Training ####\")\n",
        "    model_config[key] = model(item)\n",
        "    model_history[key] = model_config[key].fit(x_train,\n",
        "                                               y_train,\n",
        "                                               batch_size=BATCH_SIZE,\n",
        "                                               epochs=EPOCHS,\n",
        "                                               validation_split=0.1,\n",
        "                                               verbose=True,\n",
        "                                               callbacks=[lr_decay_callback])\n",
        "  return model_config, model_history\n",
        "\n",
        "model_config, model_history = loop_model(optimiser_list, x_train, y_train, BATCH_SIZE, EPOCHS)"
      ],
      "execution_count": 12,
      "outputs": [
        {
          "output_type": "stream",
          "text": [
            "\n",
            "\n",
            "#### SGD Training ####\n",
            "Epoch 1/45\n",
            "\n",
            "Epoch 00001: LearningRateScheduler reducing learning rate to 0.001.\n",
            "422/422 [==============================] - 2s 3ms/step - loss: 124.7441 - accuracy: 0.0918 - val_loss: 120.9824 - val_accuracy: 0.1222\n",
            "Epoch 2/45\n",
            "\n",
            "Epoch 00002: LearningRateScheduler reducing learning rate to 0.0007071067811865475.\n",
            "422/422 [==============================] - 1s 2ms/step - loss: 121.3385 - accuracy: 0.1346 - val_loss: 119.4002 - val_accuracy: 0.1680\n",
            "Epoch 3/45\n",
            "\n",
            "Epoch 00003: LearningRateScheduler reducing learning rate to 0.0005773502691896258.\n",
            "422/422 [==============================] - 1s 2ms/step - loss: 119.9895 - accuracy: 0.1808 - val_loss: 118.5221 - val_accuracy: 0.2120\n",
            "Epoch 4/45\n",
            "\n",
            "Epoch 00004: LearningRateScheduler reducing learning rate to 0.0005.\n",
            "422/422 [==============================] - 1s 2ms/step - loss: 119.1928 - accuracy: 0.2158 - val_loss: 117.9398 - val_accuracy: 0.2465\n",
            "Epoch 5/45\n",
            "\n",
            "Epoch 00005: LearningRateScheduler reducing learning rate to 0.0004472135954999579.\n",
            "422/422 [==============================] - 1s 2ms/step - loss: 118.8659 - accuracy: 0.2464 - val_loss: 117.5034 - val_accuracy: 0.2728\n",
            "Epoch 6/45\n",
            "\n",
            "Epoch 00006: LearningRateScheduler reducing learning rate to 0.0004082482904638631.\n",
            "422/422 [==============================] - 1s 2ms/step - loss: 118.6134 - accuracy: 0.2763 - val_loss: 117.1532 - val_accuracy: 0.2962\n",
            "Epoch 7/45\n",
            "\n",
            "Epoch 00007: LearningRateScheduler reducing learning rate to 0.0003779644730092272.\n",
            "422/422 [==============================] - 1s 2ms/step - loss: 118.0518 - accuracy: 0.2960 - val_loss: 116.8610 - val_accuracy: 0.3170\n",
            "Epoch 8/45\n",
            "\n",
            "Epoch 00008: LearningRateScheduler reducing learning rate to 0.00035355339059327376.\n",
            "422/422 [==============================] - 1s 2ms/step - loss: 117.9912 - accuracy: 0.3167 - val_loss: 116.6114 - val_accuracy: 0.3348\n",
            "Epoch 9/45\n",
            "\n",
            "Epoch 00009: LearningRateScheduler reducing learning rate to 0.0003333333333333333.\n",
            "422/422 [==============================] - 1s 2ms/step - loss: 117.6984 - accuracy: 0.3301 - val_loss: 116.3943 - val_accuracy: 0.3483\n",
            "Epoch 10/45\n",
            "\n",
            "Epoch 00010: LearningRateScheduler reducing learning rate to 0.00031622776601683794.\n",
            "422/422 [==============================] - 1s 2ms/step - loss: 117.2691 - accuracy: 0.3471 - val_loss: 116.2029 - val_accuracy: 0.3637\n",
            "Epoch 11/45\n",
            "\n",
            "Epoch 00011: LearningRateScheduler reducing learning rate to 0.00030151134457776364.\n",
            "422/422 [==============================] - 1s 2ms/step - loss: 117.3910 - accuracy: 0.3616 - val_loss: 116.0327 - val_accuracy: 0.3742\n",
            "Epoch 12/45\n",
            "\n",
            "Epoch 00012: LearningRateScheduler reducing learning rate to 0.0002886751345948129.\n",
            "422/422 [==============================] - 1s 2ms/step - loss: 117.0325 - accuracy: 0.3694 - val_loss: 115.8798 - val_accuracy: 0.3870\n",
            "Epoch 13/45\n",
            "\n",
            "Epoch 00013: LearningRateScheduler reducing learning rate to 0.0002773500981126146.\n",
            "422/422 [==============================] - 1s 2ms/step - loss: 116.8736 - accuracy: 0.3809 - val_loss: 115.7415 - val_accuracy: 0.3985\n",
            "Epoch 14/45\n",
            "\n",
            "Epoch 00014: LearningRateScheduler reducing learning rate to 0.0002672612419124244.\n",
            "422/422 [==============================] - 1s 2ms/step - loss: 117.2104 - accuracy: 0.3895 - val_loss: 115.6158 - val_accuracy: 0.4080\n",
            "Epoch 15/45\n",
            "\n",
            "Epoch 00015: LearningRateScheduler reducing learning rate to 0.0002581988897471611.\n",
            "422/422 [==============================] - 1s 2ms/step - loss: 116.6658 - accuracy: 0.3987 - val_loss: 115.5007 - val_accuracy: 0.4183\n",
            "Epoch 16/45\n",
            "\n",
            "Epoch 00016: LearningRateScheduler reducing learning rate to 0.00025.\n",
            "422/422 [==============================] - 1s 2ms/step - loss: 116.6504 - accuracy: 0.4118 - val_loss: 115.3950 - val_accuracy: 0.4280\n",
            "Epoch 17/45\n",
            "\n",
            "Epoch 00017: LearningRateScheduler reducing learning rate to 0.000242535625036333.\n",
            "422/422 [==============================] - 1s 2ms/step - loss: 116.6111 - accuracy: 0.4202 - val_loss: 115.2972 - val_accuracy: 0.4385\n",
            "Epoch 18/45\n",
            "\n",
            "Epoch 00018: LearningRateScheduler reducing learning rate to 0.00023570226039551587.\n",
            "422/422 [==============================] - 1s 2ms/step - loss: 116.5086 - accuracy: 0.4269 - val_loss: 115.2067 - val_accuracy: 0.4468\n",
            "Epoch 19/45\n",
            "\n",
            "Epoch 00019: LearningRateScheduler reducing learning rate to 0.00022941573387056174.\n",
            "422/422 [==============================] - 1s 2ms/step - loss: 116.2451 - accuracy: 0.4334 - val_loss: 115.1225 - val_accuracy: 0.4545\n",
            "Epoch 20/45\n",
            "\n",
            "Epoch 00020: LearningRateScheduler reducing learning rate to 0.00022360679774997895.\n",
            "422/422 [==============================] - 1s 2ms/step - loss: 116.4457 - accuracy: 0.4383 - val_loss: 115.0438 - val_accuracy: 0.4622\n",
            "Epoch 21/45\n",
            "\n",
            "Epoch 00021: LearningRateScheduler reducing learning rate to 0.0002182178902359924.\n",
            "422/422 [==============================] - 1s 2ms/step - loss: 116.1292 - accuracy: 0.4437 - val_loss: 114.9701 - val_accuracy: 0.4687\n",
            "Epoch 22/45\n",
            "\n",
            "Epoch 00022: LearningRateScheduler reducing learning rate to 0.00021320071635561044.\n",
            "422/422 [==============================] - 1s 2ms/step - loss: 116.0213 - accuracy: 0.4508 - val_loss: 114.9012 - val_accuracy: 0.4733\n",
            "Epoch 23/45\n",
            "\n",
            "Epoch 00023: LearningRateScheduler reducing learning rate to 0.0002085144140570748.\n",
            "422/422 [==============================] - 1s 2ms/step - loss: 115.7406 - accuracy: 0.4563 - val_loss: 114.8362 - val_accuracy: 0.4797\n",
            "Epoch 24/45\n",
            "\n",
            "Epoch 00024: LearningRateScheduler reducing learning rate to 0.00020412414523193154.\n",
            "422/422 [==============================] - 1s 2ms/step - loss: 115.8274 - accuracy: 0.4631 - val_loss: 114.7751 - val_accuracy: 0.4862\n",
            "Epoch 25/45\n",
            "\n",
            "Epoch 00025: LearningRateScheduler reducing learning rate to 0.0002.\n",
            "422/422 [==============================] - 1s 2ms/step - loss: 116.0907 - accuracy: 0.4726 - val_loss: 114.7173 - val_accuracy: 0.4907\n",
            "Epoch 26/45\n",
            "\n",
            "Epoch 00026: LearningRateScheduler reducing learning rate to 0.00019611613513818404.\n",
            "422/422 [==============================] - 1s 2ms/step - loss: 115.9063 - accuracy: 0.4736 - val_loss: 114.6626 - val_accuracy: 0.4960\n",
            "Epoch 27/45\n",
            "\n",
            "Epoch 00027: LearningRateScheduler reducing learning rate to 0.00019245008972987527.\n",
            "422/422 [==============================] - 1s 2ms/step - loss: 115.9845 - accuracy: 0.4757 - val_loss: 114.6108 - val_accuracy: 0.4997\n",
            "Epoch 28/45\n",
            "\n",
            "Epoch 00028: LearningRateScheduler reducing learning rate to 0.0001889822365046136.\n",
            "422/422 [==============================] - 1s 2ms/step - loss: 116.1427 - accuracy: 0.4819 - val_loss: 114.5616 - val_accuracy: 0.5042\n",
            "Epoch 29/45\n",
            "\n",
            "Epoch 00029: LearningRateScheduler reducing learning rate to 0.0001856953381770519.\n",
            "422/422 [==============================] - 1s 2ms/step - loss: 115.2323 - accuracy: 0.4897 - val_loss: 114.5148 - val_accuracy: 0.5073\n",
            "Epoch 30/45\n",
            "\n",
            "Epoch 00030: LearningRateScheduler reducing learning rate to 0.00018257418583505537.\n",
            "422/422 [==============================] - 1s 2ms/step - loss: 115.8188 - accuracy: 0.4937 - val_loss: 114.4702 - val_accuracy: 0.5128\n",
            "Epoch 31/45\n",
            "\n",
            "Epoch 00031: LearningRateScheduler reducing learning rate to 0.00017960530202677493.\n",
            "422/422 [==============================] - 1s 2ms/step - loss: 115.5894 - accuracy: 0.4989 - val_loss: 114.4278 - val_accuracy: 0.5172\n",
            "Epoch 32/45\n",
            "\n",
            "Epoch 00032: LearningRateScheduler reducing learning rate to 0.00017677669529663688.\n",
            "422/422 [==============================] - 1s 2ms/step - loss: 115.6684 - accuracy: 0.5014 - val_loss: 114.3873 - val_accuracy: 0.5215\n",
            "Epoch 33/45\n",
            "\n",
            "Epoch 00033: LearningRateScheduler reducing learning rate to 0.00017407765595569785.\n",
            "422/422 [==============================] - 1s 2ms/step - loss: 115.4098 - accuracy: 0.5016 - val_loss: 114.3485 - val_accuracy: 0.5260\n",
            "Epoch 34/45\n",
            "\n",
            "Epoch 00034: LearningRateScheduler reducing learning rate to 0.00017149858514250885.\n",
            "422/422 [==============================] - 1s 2ms/step - loss: 115.2678 - accuracy: 0.5108 - val_loss: 114.3114 - val_accuracy: 0.5293\n",
            "Epoch 35/45\n",
            "\n",
            "Epoch 00035: LearningRateScheduler reducing learning rate to 0.0001690308509457033.\n",
            "422/422 [==============================] - 1s 2ms/step - loss: 115.6694 - accuracy: 0.5104 - val_loss: 114.2759 - val_accuracy: 0.5358\n",
            "Epoch 36/45\n",
            "\n",
            "Epoch 00036: LearningRateScheduler reducing learning rate to 0.00016666666666666666.\n",
            "422/422 [==============================] - 1s 2ms/step - loss: 115.4509 - accuracy: 0.5150 - val_loss: 114.2419 - val_accuracy: 0.5390\n",
            "Epoch 37/45\n",
            "\n",
            "Epoch 00037: LearningRateScheduler reducing learning rate to 0.0001643989873053573.\n",
            "422/422 [==============================] - 1s 2ms/step - loss: 115.6714 - accuracy: 0.5165 - val_loss: 114.2092 - val_accuracy: 0.5432\n",
            "Epoch 38/45\n",
            "\n",
            "Epoch 00038: LearningRateScheduler reducing learning rate to 0.00016222142113076255.\n",
            "422/422 [==============================] - 1s 2ms/step - loss: 115.3594 - accuracy: 0.5216 - val_loss: 114.1778 - val_accuracy: 0.5458\n",
            "Epoch 39/45\n",
            "\n",
            "Epoch 00039: LearningRateScheduler reducing learning rate to 0.00016012815380508712.\n",
            "422/422 [==============================] - 1s 2ms/step - loss: 115.3913 - accuracy: 0.5209 - val_loss: 114.1476 - val_accuracy: 0.5492\n",
            "Epoch 40/45\n",
            "\n",
            "Epoch 00040: LearningRateScheduler reducing learning rate to 0.00015811388300841897.\n",
            "422/422 [==============================] - 1s 2ms/step - loss: 115.2335 - accuracy: 0.5291 - val_loss: 114.1186 - val_accuracy: 0.5522\n",
            "Epoch 41/45\n",
            "\n",
            "Epoch 00041: LearningRateScheduler reducing learning rate to 0.00015617376188860606.\n",
            "422/422 [==============================] - 1s 2ms/step - loss: 115.0481 - accuracy: 0.5307 - val_loss: 114.0906 - val_accuracy: 0.5568\n",
            "Epoch 42/45\n",
            "\n",
            "Epoch 00042: LearningRateScheduler reducing learning rate to 0.00015430334996209192.\n",
            "422/422 [==============================] - 1s 2ms/step - loss: 115.0428 - accuracy: 0.5329 - val_loss: 114.0636 - val_accuracy: 0.5597\n",
            "Epoch 43/45\n",
            "\n",
            "Epoch 00043: LearningRateScheduler reducing learning rate to 0.00015249857033260467.\n",
            "422/422 [==============================] - 1s 2ms/step - loss: 115.2858 - accuracy: 0.5383 - val_loss: 114.0376 - val_accuracy: 0.5632\n",
            "Epoch 44/45\n",
            "\n",
            "Epoch 00044: LearningRateScheduler reducing learning rate to 0.00015075567228888182.\n",
            "422/422 [==============================] - 1s 2ms/step - loss: 114.9461 - accuracy: 0.5436 - val_loss: 114.0124 - val_accuracy: 0.5645\n",
            "Epoch 45/45\n",
            "\n",
            "Epoch 00045: LearningRateScheduler reducing learning rate to 0.00014907119849998598.\n",
            "422/422 [==============================] - 1s 2ms/step - loss: 115.3075 - accuracy: 0.5455 - val_loss: 113.9881 - val_accuracy: 0.5688\n",
            "\n",
            "\n",
            "#### Nesterov Training ####\n",
            "Epoch 1/45\n",
            "\n",
            "Epoch 00001: LearningRateScheduler reducing learning rate to 0.001.\n",
            "422/422 [==============================] - 1s 3ms/step - loss: 124.4606 - accuracy: 0.0887 - val_loss: 121.1370 - val_accuracy: 0.1190\n",
            "Epoch 2/45\n",
            "\n",
            "Epoch 00002: LearningRateScheduler reducing learning rate to 0.0007071067811865475.\n",
            "422/422 [==============================] - 1s 2ms/step - loss: 121.7460 - accuracy: 0.1241 - val_loss: 119.6638 - val_accuracy: 0.1562\n",
            "Epoch 3/45\n",
            "\n",
            "Epoch 00003: LearningRateScheduler reducing learning rate to 0.0005773502691896258.\n",
            "422/422 [==============================] - 1s 2ms/step - loss: 120.7676 - accuracy: 0.1532 - val_loss: 118.7225 - val_accuracy: 0.1840\n",
            "Epoch 4/45\n",
            "\n",
            "Epoch 00004: LearningRateScheduler reducing learning rate to 0.0005.\n",
            "422/422 [==============================] - 1s 2ms/step - loss: 119.5061 - accuracy: 0.1819 - val_loss: 118.0372 - val_accuracy: 0.2120\n",
            "Epoch 5/45\n",
            "\n",
            "Epoch 00005: LearningRateScheduler reducing learning rate to 0.0004472135954999579.\n",
            "422/422 [==============================] - 1s 2ms/step - loss: 119.1563 - accuracy: 0.2046 - val_loss: 117.5103 - val_accuracy: 0.2380\n",
            "Epoch 6/45\n",
            "\n",
            "Epoch 00006: LearningRateScheduler reducing learning rate to 0.0004082482904638631.\n",
            "422/422 [==============================] - 1s 2ms/step - loss: 118.1390 - accuracy: 0.2299 - val_loss: 117.0937 - val_accuracy: 0.2623\n",
            "Epoch 7/45\n",
            "\n",
            "Epoch 00007: LearningRateScheduler reducing learning rate to 0.0003779644730092272.\n",
            "422/422 [==============================] - 1s 2ms/step - loss: 118.1503 - accuracy: 0.2542 - val_loss: 116.7562 - val_accuracy: 0.2868\n",
            "Epoch 8/45\n",
            "\n",
            "Epoch 00008: LearningRateScheduler reducing learning rate to 0.00035355339059327376.\n",
            "422/422 [==============================] - 1s 2ms/step - loss: 117.8734 - accuracy: 0.2766 - val_loss: 116.4757 - val_accuracy: 0.3098\n",
            "Epoch 9/45\n",
            "\n",
            "Epoch 00009: LearningRateScheduler reducing learning rate to 0.0003333333333333333.\n",
            "422/422 [==============================] - 1s 2ms/step - loss: 117.7472 - accuracy: 0.2985 - val_loss: 116.2383 - val_accuracy: 0.3270\n",
            "Epoch 10/45\n",
            "\n",
            "Epoch 00010: LearningRateScheduler reducing learning rate to 0.00031622776601683794.\n",
            "422/422 [==============================] - 1s 2ms/step - loss: 117.3146 - accuracy: 0.3187 - val_loss: 116.0340 - val_accuracy: 0.3448\n",
            "Epoch 11/45\n",
            "\n",
            "Epoch 00011: LearningRateScheduler reducing learning rate to 0.00030151134457776364.\n",
            "422/422 [==============================] - 1s 2ms/step - loss: 117.0627 - accuracy: 0.3341 - val_loss: 115.8562 - val_accuracy: 0.3602\n",
            "Epoch 12/45\n",
            "\n",
            "Epoch 00012: LearningRateScheduler reducing learning rate to 0.0002886751345948129.\n",
            "422/422 [==============================] - 1s 2ms/step - loss: 117.0336 - accuracy: 0.3496 - val_loss: 115.6995 - val_accuracy: 0.3762\n",
            "Epoch 13/45\n",
            "\n",
            "Epoch 00013: LearningRateScheduler reducing learning rate to 0.0002773500981126146.\n",
            "422/422 [==============================] - 1s 2ms/step - loss: 117.0225 - accuracy: 0.3665 - val_loss: 115.5602 - val_accuracy: 0.3905\n",
            "Epoch 14/45\n",
            "\n",
            "Epoch 00014: LearningRateScheduler reducing learning rate to 0.0002672612419124244.\n",
            "422/422 [==============================] - 1s 2ms/step - loss: 116.6197 - accuracy: 0.3755 - val_loss: 115.4353 - val_accuracy: 0.4050\n",
            "Epoch 15/45\n",
            "\n",
            "Epoch 00015: LearningRateScheduler reducing learning rate to 0.0002581988897471611.\n",
            "422/422 [==============================] - 1s 2ms/step - loss: 116.6565 - accuracy: 0.3881 - val_loss: 115.3226 - val_accuracy: 0.4175\n",
            "Epoch 16/45\n",
            "\n",
            "Epoch 00016: LearningRateScheduler reducing learning rate to 0.00025.\n",
            "422/422 [==============================] - 1s 2ms/step - loss: 116.6024 - accuracy: 0.3948 - val_loss: 115.2203 - val_accuracy: 0.4290\n",
            "Epoch 17/45\n",
            "\n",
            "Epoch 00017: LearningRateScheduler reducing learning rate to 0.000242535625036333.\n",
            "422/422 [==============================] - 1s 2ms/step - loss: 116.5276 - accuracy: 0.4090 - val_loss: 115.1269 - val_accuracy: 0.4382\n",
            "Epoch 18/45\n",
            "\n",
            "Epoch 00018: LearningRateScheduler reducing learning rate to 0.00023570226039551587.\n",
            "422/422 [==============================] - 1s 2ms/step - loss: 116.0782 - accuracy: 0.4149 - val_loss: 115.0413 - val_accuracy: 0.4465\n",
            "Epoch 19/45\n",
            "\n",
            "Epoch 00019: LearningRateScheduler reducing learning rate to 0.00022941573387056174.\n",
            "422/422 [==============================] - 1s 2ms/step - loss: 116.1200 - accuracy: 0.4229 - val_loss: 114.9624 - val_accuracy: 0.4557\n",
            "Epoch 20/45\n",
            "\n",
            "Epoch 00020: LearningRateScheduler reducing learning rate to 0.00022360679774997895.\n",
            "422/422 [==============================] - 1s 2ms/step - loss: 115.9556 - accuracy: 0.4296 - val_loss: 114.8896 - val_accuracy: 0.4633\n",
            "Epoch 21/45\n",
            "\n",
            "Epoch 00021: LearningRateScheduler reducing learning rate to 0.0002182178902359924.\n",
            "422/422 [==============================] - 1s 2ms/step - loss: 115.9283 - accuracy: 0.4373 - val_loss: 114.8220 - val_accuracy: 0.4745\n",
            "Epoch 22/45\n",
            "\n",
            "Epoch 00022: LearningRateScheduler reducing learning rate to 0.00021320071635561044.\n",
            "422/422 [==============================] - 1s 2ms/step - loss: 115.8626 - accuracy: 0.4485 - val_loss: 114.7591 - val_accuracy: 0.4827\n",
            "Epoch 23/45\n",
            "\n",
            "Epoch 00023: LearningRateScheduler reducing learning rate to 0.0002085144140570748.\n",
            "422/422 [==============================] - 1s 2ms/step - loss: 115.9681 - accuracy: 0.4559 - val_loss: 114.7004 - val_accuracy: 0.4880\n",
            "Epoch 24/45\n",
            "\n",
            "Epoch 00024: LearningRateScheduler reducing learning rate to 0.00020412414523193154.\n",
            "422/422 [==============================] - 1s 2ms/step - loss: 115.9147 - accuracy: 0.4584 - val_loss: 114.6454 - val_accuracy: 0.4952\n",
            "Epoch 25/45\n",
            "\n",
            "Epoch 00025: LearningRateScheduler reducing learning rate to 0.0002.\n",
            "422/422 [==============================] - 1s 2ms/step - loss: 116.0659 - accuracy: 0.4668 - val_loss: 114.5939 - val_accuracy: 0.5012\n",
            "Epoch 26/45\n",
            "\n",
            "Epoch 00026: LearningRateScheduler reducing learning rate to 0.00019611613513818404.\n",
            "422/422 [==============================] - 1s 2ms/step - loss: 115.5667 - accuracy: 0.4730 - val_loss: 114.5453 - val_accuracy: 0.5072\n",
            "Epoch 27/45\n",
            "\n",
            "Epoch 00027: LearningRateScheduler reducing learning rate to 0.00019245008972987527.\n",
            "422/422 [==============================] - 1s 2ms/step - loss: 116.1075 - accuracy: 0.4815 - val_loss: 114.4995 - val_accuracy: 0.5120\n",
            "Epoch 28/45\n",
            "\n",
            "Epoch 00028: LearningRateScheduler reducing learning rate to 0.0001889822365046136.\n",
            "422/422 [==============================] - 1s 2ms/step - loss: 115.6336 - accuracy: 0.4826 - val_loss: 114.4563 - val_accuracy: 0.5178\n",
            "Epoch 29/45\n",
            "\n",
            "Epoch 00029: LearningRateScheduler reducing learning rate to 0.0001856953381770519.\n",
            "422/422 [==============================] - 1s 2ms/step - loss: 115.5771 - accuracy: 0.4902 - val_loss: 114.4154 - val_accuracy: 0.5212\n",
            "Epoch 30/45\n",
            "\n",
            "Epoch 00030: LearningRateScheduler reducing learning rate to 0.00018257418583505537.\n",
            "422/422 [==============================] - 1s 2ms/step - loss: 115.7460 - accuracy: 0.4940 - val_loss: 114.3766 - val_accuracy: 0.5253\n",
            "Epoch 31/45\n",
            "\n",
            "Epoch 00031: LearningRateScheduler reducing learning rate to 0.00017960530202677493.\n",
            "422/422 [==============================] - 1s 2ms/step - loss: 115.4826 - accuracy: 0.5007 - val_loss: 114.3397 - val_accuracy: 0.5300\n",
            "Epoch 32/45\n",
            "\n",
            "Epoch 00032: LearningRateScheduler reducing learning rate to 0.00017677669529663688.\n",
            "422/422 [==============================] - 1s 2ms/step - loss: 115.4972 - accuracy: 0.4997 - val_loss: 114.3046 - val_accuracy: 0.5340\n",
            "Epoch 33/45\n",
            "\n",
            "Epoch 00033: LearningRateScheduler reducing learning rate to 0.00017407765595569785.\n",
            "422/422 [==============================] - 1s 2ms/step - loss: 115.7406 - accuracy: 0.5067 - val_loss: 114.2711 - val_accuracy: 0.5373\n",
            "Epoch 34/45\n",
            "\n",
            "Epoch 00034: LearningRateScheduler reducing learning rate to 0.00017149858514250885.\n",
            "422/422 [==============================] - 1s 2ms/step - loss: 115.8024 - accuracy: 0.5054 - val_loss: 114.2392 - val_accuracy: 0.5410\n",
            "Epoch 35/45\n",
            "\n",
            "Epoch 00035: LearningRateScheduler reducing learning rate to 0.0001690308509457033.\n",
            "422/422 [==============================] - 1s 2ms/step - loss: 115.7914 - accuracy: 0.5138 - val_loss: 114.2086 - val_accuracy: 0.5450\n",
            "Epoch 36/45\n",
            "\n",
            "Epoch 00036: LearningRateScheduler reducing learning rate to 0.00016666666666666666.\n",
            "422/422 [==============================] - 1s 2ms/step - loss: 115.4155 - accuracy: 0.5220 - val_loss: 114.1794 - val_accuracy: 0.5492\n",
            "Epoch 37/45\n",
            "\n",
            "Epoch 00037: LearningRateScheduler reducing learning rate to 0.0001643989873053573.\n",
            "422/422 [==============================] - 1s 2ms/step - loss: 115.3756 - accuracy: 0.5208 - val_loss: 114.1514 - val_accuracy: 0.5527\n",
            "Epoch 38/45\n",
            "\n",
            "Epoch 00038: LearningRateScheduler reducing learning rate to 0.00016222142113076255.\n",
            "422/422 [==============================] - 1s 2ms/step - loss: 115.3049 - accuracy: 0.5251 - val_loss: 114.1245 - val_accuracy: 0.5555\n",
            "Epoch 39/45\n",
            "\n",
            "Epoch 00039: LearningRateScheduler reducing learning rate to 0.00016012815380508712.\n",
            "422/422 [==============================] - 1s 2ms/step - loss: 115.1193 - accuracy: 0.5330 - val_loss: 114.0987 - val_accuracy: 0.5588\n",
            "Epoch 40/45\n",
            "\n",
            "Epoch 00040: LearningRateScheduler reducing learning rate to 0.00015811388300841897.\n",
            "422/422 [==============================] - 1s 2ms/step - loss: 115.3370 - accuracy: 0.5313 - val_loss: 114.0739 - val_accuracy: 0.5635\n",
            "Epoch 41/45\n",
            "\n",
            "Epoch 00041: LearningRateScheduler reducing learning rate to 0.00015617376188860606.\n",
            "422/422 [==============================] - 1s 2ms/step - loss: 115.1660 - accuracy: 0.5380 - val_loss: 114.0500 - val_accuracy: 0.5667\n",
            "Epoch 42/45\n",
            "\n",
            "Epoch 00042: LearningRateScheduler reducing learning rate to 0.00015430334996209192.\n",
            "422/422 [==============================] - 1s 2ms/step - loss: 115.2748 - accuracy: 0.5414 - val_loss: 114.0269 - val_accuracy: 0.5705\n",
            "Epoch 43/45\n",
            "\n",
            "Epoch 00043: LearningRateScheduler reducing learning rate to 0.00015249857033260467.\n",
            "422/422 [==============================] - 1s 2ms/step - loss: 115.0891 - accuracy: 0.5419 - val_loss: 114.0048 - val_accuracy: 0.5728\n",
            "Epoch 44/45\n",
            "\n",
            "Epoch 00044: LearningRateScheduler reducing learning rate to 0.00015075567228888182.\n",
            "422/422 [==============================] - 1s 2ms/step - loss: 115.2360 - accuracy: 0.5482 - val_loss: 113.9833 - val_accuracy: 0.5755\n",
            "Epoch 45/45\n",
            "\n",
            "Epoch 00045: LearningRateScheduler reducing learning rate to 0.00014907119849998598.\n",
            "422/422 [==============================] - 1s 2ms/step - loss: 115.1915 - accuracy: 0.5452 - val_loss: 113.9626 - val_accuracy: 0.5782\n",
            "\n",
            "\n",
            "#### AdaGrad Training ####\n",
            "Epoch 1/45\n",
            "\n",
            "Epoch 00001: LearningRateScheduler reducing learning rate to 0.001.\n",
            "422/422 [==============================] - 2s 3ms/step - loss: 126.6191 - accuracy: 0.0772 - val_loss: 123.9504 - val_accuracy: 0.0883\n",
            "Epoch 2/45\n",
            "\n",
            "Epoch 00002: LearningRateScheduler reducing learning rate to 0.0007071067811865475.\n",
            "422/422 [==============================] - 1s 2ms/step - loss: 124.6928 - accuracy: 0.0835 - val_loss: 123.0968 - val_accuracy: 0.0935\n",
            "Epoch 3/45\n",
            "\n",
            "Epoch 00003: LearningRateScheduler reducing learning rate to 0.0005773502691896258.\n",
            "422/422 [==============================] - 1s 2ms/step - loss: 123.5266 - accuracy: 0.0902 - val_loss: 122.5926 - val_accuracy: 0.0983\n",
            "Epoch 4/45\n",
            "\n",
            "Epoch 00004: LearningRateScheduler reducing learning rate to 0.0005.\n",
            "422/422 [==============================] - 1s 2ms/step - loss: 123.2906 - accuracy: 0.0945 - val_loss: 122.2423 - val_accuracy: 0.1057\n",
            "Epoch 5/45\n",
            "\n",
            "Epoch 00005: LearningRateScheduler reducing learning rate to 0.0004472135954999579.\n",
            "422/422 [==============================] - 1s 2ms/step - loss: 123.1773 - accuracy: 0.0969 - val_loss: 121.9780 - val_accuracy: 0.1093\n",
            "Epoch 6/45\n",
            "\n",
            "Epoch 00006: LearningRateScheduler reducing learning rate to 0.0004082482904638631.\n",
            "422/422 [==============================] - 1s 2ms/step - loss: 122.7541 - accuracy: 0.1027 - val_loss: 121.7674 - val_accuracy: 0.1140\n",
            "Epoch 7/45\n",
            "\n",
            "Epoch 00007: LearningRateScheduler reducing learning rate to 0.0003779644730092272.\n",
            "422/422 [==============================] - 1s 2ms/step - loss: 122.6034 - accuracy: 0.1078 - val_loss: 121.5934 - val_accuracy: 0.1165\n",
            "Epoch 8/45\n",
            "\n",
            "Epoch 00008: LearningRateScheduler reducing learning rate to 0.00035355339059327376.\n",
            "422/422 [==============================] - 1s 2ms/step - loss: 122.6563 - accuracy: 0.1091 - val_loss: 121.4458 - val_accuracy: 0.1207\n",
            "Epoch 9/45\n",
            "\n",
            "Epoch 00009: LearningRateScheduler reducing learning rate to 0.0003333333333333333.\n",
            "422/422 [==============================] - 1s 2ms/step - loss: 122.3937 - accuracy: 0.1143 - val_loss: 121.3181 - val_accuracy: 0.1232\n",
            "Epoch 10/45\n",
            "\n",
            "Epoch 00010: LearningRateScheduler reducing learning rate to 0.00031622776601683794.\n",
            "422/422 [==============================] - 1s 2ms/step - loss: 122.3611 - accuracy: 0.1173 - val_loss: 121.2059 - val_accuracy: 0.1260\n",
            "Epoch 11/45\n",
            "\n",
            "Epoch 00011: LearningRateScheduler reducing learning rate to 0.00030151134457776364.\n",
            "422/422 [==============================] - 1s 2ms/step - loss: 121.7909 - accuracy: 0.1182 - val_loss: 121.1060 - val_accuracy: 0.1287\n",
            "Epoch 12/45\n",
            "\n",
            "Epoch 00012: LearningRateScheduler reducing learning rate to 0.0002886751345948129.\n",
            "422/422 [==============================] - 1s 2ms/step - loss: 121.8637 - accuracy: 0.1211 - val_loss: 121.0161 - val_accuracy: 0.1310\n",
            "Epoch 13/45\n",
            "\n",
            "Epoch 00013: LearningRateScheduler reducing learning rate to 0.0002773500981126146.\n",
            "422/422 [==============================] - 1s 2ms/step - loss: 122.1229 - accuracy: 0.1225 - val_loss: 120.9346 - val_accuracy: 0.1318\n",
            "Epoch 14/45\n",
            "\n",
            "Epoch 00014: LearningRateScheduler reducing learning rate to 0.0002672612419124244.\n",
            "422/422 [==============================] - 1s 2ms/step - loss: 121.8685 - accuracy: 0.1252 - val_loss: 120.8601 - val_accuracy: 0.1345\n",
            "Epoch 15/45\n",
            "\n",
            "Epoch 00015: LearningRateScheduler reducing learning rate to 0.0002581988897471611.\n",
            "422/422 [==============================] - 1s 2ms/step - loss: 121.8106 - accuracy: 0.1303 - val_loss: 120.7915 - val_accuracy: 0.1367\n",
            "Epoch 16/45\n",
            "\n",
            "Epoch 00016: LearningRateScheduler reducing learning rate to 0.00025.\n",
            "422/422 [==============================] - 1s 2ms/step - loss: 121.9223 - accuracy: 0.1287 - val_loss: 120.7282 - val_accuracy: 0.1380\n",
            "Epoch 17/45\n",
            "\n",
            "Epoch 00017: LearningRateScheduler reducing learning rate to 0.000242535625036333.\n",
            "422/422 [==============================] - 1s 2ms/step - loss: 121.7565 - accuracy: 0.1311 - val_loss: 120.6693 - val_accuracy: 0.1395\n",
            "Epoch 18/45\n",
            "\n",
            "Epoch 00018: LearningRateScheduler reducing learning rate to 0.00023570226039551587.\n",
            "422/422 [==============================] - 1s 2ms/step - loss: 121.4283 - accuracy: 0.1323 - val_loss: 120.6143 - val_accuracy: 0.1407\n",
            "Epoch 19/45\n",
            "\n",
            "Epoch 00019: LearningRateScheduler reducing learning rate to 0.00022941573387056174.\n",
            "422/422 [==============================] - 1s 2ms/step - loss: 121.6807 - accuracy: 0.1368 - val_loss: 120.5628 - val_accuracy: 0.1412\n",
            "Epoch 20/45\n",
            "\n",
            "Epoch 00020: LearningRateScheduler reducing learning rate to 0.00022360679774997895.\n",
            "422/422 [==============================] - 1s 2ms/step - loss: 121.6977 - accuracy: 0.1347 - val_loss: 120.5143 - val_accuracy: 0.1428\n",
            "Epoch 21/45\n",
            "\n",
            "Epoch 00021: LearningRateScheduler reducing learning rate to 0.0002182178902359924.\n",
            "422/422 [==============================] - 1s 2ms/step - loss: 121.4277 - accuracy: 0.1386 - val_loss: 120.4687 - val_accuracy: 0.1450\n",
            "Epoch 22/45\n",
            "\n",
            "Epoch 00022: LearningRateScheduler reducing learning rate to 0.00021320071635561044.\n",
            "422/422 [==============================] - 1s 2ms/step - loss: 121.2277 - accuracy: 0.1402 - val_loss: 120.4255 - val_accuracy: 0.1455\n",
            "Epoch 23/45\n",
            "\n",
            "Epoch 00023: LearningRateScheduler reducing learning rate to 0.0002085144140570748.\n",
            "422/422 [==============================] - 1s 2ms/step - loss: 121.3320 - accuracy: 0.1419 - val_loss: 120.3846 - val_accuracy: 0.1467\n",
            "Epoch 24/45\n",
            "\n",
            "Epoch 00024: LearningRateScheduler reducing learning rate to 0.00020412414523193154.\n",
            "422/422 [==============================] - 1s 2ms/step - loss: 121.3974 - accuracy: 0.1414 - val_loss: 120.3457 - val_accuracy: 0.1475\n",
            "Epoch 25/45\n",
            "\n",
            "Epoch 00025: LearningRateScheduler reducing learning rate to 0.0002.\n",
            "422/422 [==============================] - 1s 2ms/step - loss: 121.3053 - accuracy: 0.1432 - val_loss: 120.3086 - val_accuracy: 0.1483\n",
            "Epoch 26/45\n",
            "\n",
            "Epoch 00026: LearningRateScheduler reducing learning rate to 0.00019611613513818404.\n",
            "422/422 [==============================] - 1s 2ms/step - loss: 121.4216 - accuracy: 0.1437 - val_loss: 120.2733 - val_accuracy: 0.1507\n",
            "Epoch 27/45\n",
            "\n",
            "Epoch 00027: LearningRateScheduler reducing learning rate to 0.00019245008972987527.\n",
            "422/422 [==============================] - 1s 2ms/step - loss: 121.3140 - accuracy: 0.1433 - val_loss: 120.2396 - val_accuracy: 0.1515\n",
            "Epoch 28/45\n",
            "\n",
            "Epoch 00028: LearningRateScheduler reducing learning rate to 0.0001889822365046136.\n",
            "422/422 [==============================] - 1s 2ms/step - loss: 121.1675 - accuracy: 0.1477 - val_loss: 120.2073 - val_accuracy: 0.1530\n",
            "Epoch 29/45\n",
            "\n",
            "Epoch 00029: LearningRateScheduler reducing learning rate to 0.0001856953381770519.\n",
            "422/422 [==============================] - 1s 2ms/step - loss: 120.8759 - accuracy: 0.1497 - val_loss: 120.1763 - val_accuracy: 0.1547\n",
            "Epoch 30/45\n",
            "\n",
            "Epoch 00030: LearningRateScheduler reducing learning rate to 0.00018257418583505537.\n",
            "422/422 [==============================] - 1s 2ms/step - loss: 120.9210 - accuracy: 0.1486 - val_loss: 120.1466 - val_accuracy: 0.1558\n",
            "Epoch 31/45\n",
            "\n",
            "Epoch 00031: LearningRateScheduler reducing learning rate to 0.00017960530202677493.\n",
            "422/422 [==============================] - 1s 2ms/step - loss: 120.9386 - accuracy: 0.1514 - val_loss: 120.1180 - val_accuracy: 0.1568\n",
            "Epoch 32/45\n",
            "\n",
            "Epoch 00032: LearningRateScheduler reducing learning rate to 0.00017677669529663688.\n",
            "422/422 [==============================] - 1s 2ms/step - loss: 121.0088 - accuracy: 0.1518 - val_loss: 120.0905 - val_accuracy: 0.1575\n",
            "Epoch 33/45\n",
            "\n",
            "Epoch 00033: LearningRateScheduler reducing learning rate to 0.00017407765595569785.\n",
            "422/422 [==============================] - 1s 2ms/step - loss: 121.2369 - accuracy: 0.1508 - val_loss: 120.0639 - val_accuracy: 0.1583\n",
            "Epoch 34/45\n",
            "\n",
            "Epoch 00034: LearningRateScheduler reducing learning rate to 0.00017149858514250885.\n",
            "422/422 [==============================] - 1s 2ms/step - loss: 121.0861 - accuracy: 0.1477 - val_loss: 120.0383 - val_accuracy: 0.1593\n",
            "Epoch 35/45\n",
            "\n",
            "Epoch 00035: LearningRateScheduler reducing learning rate to 0.0001690308509457033.\n",
            "422/422 [==============================] - 1s 2ms/step - loss: 120.7786 - accuracy: 0.1524 - val_loss: 120.0135 - val_accuracy: 0.1600\n",
            "Epoch 36/45\n",
            "\n",
            "Epoch 00036: LearningRateScheduler reducing learning rate to 0.00016666666666666666.\n",
            "422/422 [==============================] - 1s 2ms/step - loss: 121.3544 - accuracy: 0.1494 - val_loss: 119.9896 - val_accuracy: 0.1608\n",
            "Epoch 37/45\n",
            "\n",
            "Epoch 00037: LearningRateScheduler reducing learning rate to 0.0001643989873053573.\n",
            "422/422 [==============================] - 1s 2ms/step - loss: 120.8826 - accuracy: 0.1548 - val_loss: 119.9665 - val_accuracy: 0.1613\n",
            "Epoch 38/45\n",
            "\n",
            "Epoch 00038: LearningRateScheduler reducing learning rate to 0.00016222142113076255.\n",
            "422/422 [==============================] - 1s 2ms/step - loss: 120.7752 - accuracy: 0.1537 - val_loss: 119.9441 - val_accuracy: 0.1623\n",
            "Epoch 39/45\n",
            "\n",
            "Epoch 00039: LearningRateScheduler reducing learning rate to 0.00016012815380508712.\n",
            "422/422 [==============================] - 1s 2ms/step - loss: 121.0919 - accuracy: 0.1585 - val_loss: 119.9224 - val_accuracy: 0.1628\n",
            "Epoch 40/45\n",
            "\n",
            "Epoch 00040: LearningRateScheduler reducing learning rate to 0.00015811388300841897.\n",
            "422/422 [==============================] - 1s 2ms/step - loss: 120.9953 - accuracy: 0.1554 - val_loss: 119.9013 - val_accuracy: 0.1643\n",
            "Epoch 41/45\n",
            "\n",
            "Epoch 00041: LearningRateScheduler reducing learning rate to 0.00015617376188860606.\n",
            "422/422 [==============================] - 1s 2ms/step - loss: 120.9136 - accuracy: 0.1561 - val_loss: 119.8808 - val_accuracy: 0.1655\n",
            "Epoch 42/45\n",
            "\n",
            "Epoch 00042: LearningRateScheduler reducing learning rate to 0.00015430334996209192.\n",
            "422/422 [==============================] - 1s 2ms/step - loss: 120.8711 - accuracy: 0.1572 - val_loss: 119.8609 - val_accuracy: 0.1660\n",
            "Epoch 43/45\n",
            "\n",
            "Epoch 00043: LearningRateScheduler reducing learning rate to 0.00015249857033260467.\n",
            "422/422 [==============================] - 1s 2ms/step - loss: 120.7350 - accuracy: 0.1574 - val_loss: 119.8416 - val_accuracy: 0.1665\n",
            "Epoch 44/45\n",
            "\n",
            "Epoch 00044: LearningRateScheduler reducing learning rate to 0.00015075567228888182.\n",
            "422/422 [==============================] - 1s 2ms/step - loss: 120.5800 - accuracy: 0.1605 - val_loss: 119.8227 - val_accuracy: 0.1668\n",
            "Epoch 45/45\n",
            "\n",
            "Epoch 00045: LearningRateScheduler reducing learning rate to 0.00014907119849998598.\n",
            "422/422 [==============================] - 1s 2ms/step - loss: 120.8493 - accuracy: 0.1587 - val_loss: 119.8044 - val_accuracy: 0.1673\n",
            "\n",
            "\n",
            "#### ADAM Training ####\n",
            "Epoch 1/45\n",
            "\n",
            "Epoch 00001: LearningRateScheduler reducing learning rate to 0.001.\n",
            "422/422 [==============================] - 2s 3ms/step - loss: 122.6784 - accuracy: 0.2239 - val_loss: 114.3361 - val_accuracy: 0.5385\n",
            "Epoch 2/45\n",
            "\n",
            "Epoch 00002: LearningRateScheduler reducing learning rate to 0.0007071067811865475.\n",
            "422/422 [==============================] - 1s 2ms/step - loss: 114.9041 - accuracy: 0.5443 - val_loss: 113.2181 - val_accuracy: 0.6838\n",
            "Epoch 3/45\n",
            "\n",
            "Epoch 00003: LearningRateScheduler reducing learning rate to 0.0005773502691896258.\n",
            "422/422 [==============================] - 1s 2ms/step - loss: 114.0509 - accuracy: 0.6613 - val_loss: 112.8245 - val_accuracy: 0.7533\n",
            "Epoch 4/45\n",
            "\n",
            "Epoch 00004: LearningRateScheduler reducing learning rate to 0.0005.\n",
            "422/422 [==============================] - 1s 2ms/step - loss: 113.7069 - accuracy: 0.7249 - val_loss: 112.6281 - val_accuracy: 0.7915\n",
            "Epoch 5/45\n",
            "\n",
            "Epoch 00005: LearningRateScheduler reducing learning rate to 0.0004472135954999579.\n",
            "422/422 [==============================] - 1s 2ms/step - loss: 113.7689 - accuracy: 0.7549 - val_loss: 112.5052 - val_accuracy: 0.8150\n",
            "Epoch 6/45\n",
            "\n",
            "Epoch 00006: LearningRateScheduler reducing learning rate to 0.0004082482904638631.\n",
            "422/422 [==============================] - 1s 2ms/step - loss: 113.5526 - accuracy: 0.7777 - val_loss: 112.4238 - val_accuracy: 0.8302\n",
            "Epoch 7/45\n",
            "\n",
            "Epoch 00007: LearningRateScheduler reducing learning rate to 0.0003779644730092272.\n",
            "422/422 [==============================] - 1s 2ms/step - loss: 113.4787 - accuracy: 0.7967 - val_loss: 112.3634 - val_accuracy: 0.8422\n",
            "Epoch 8/45\n",
            "\n",
            "Epoch 00008: LearningRateScheduler reducing learning rate to 0.00035355339059327376.\n",
            "422/422 [==============================] - 1s 2ms/step - loss: 113.3002 - accuracy: 0.8070 - val_loss: 112.3180 - val_accuracy: 0.8482\n",
            "Epoch 9/45\n",
            "\n",
            "Epoch 00009: LearningRateScheduler reducing learning rate to 0.0003333333333333333.\n",
            "422/422 [==============================] - 1s 2ms/step - loss: 113.5272 - accuracy: 0.8205 - val_loss: 112.2808 - val_accuracy: 0.8545\n",
            "Epoch 10/45\n",
            "\n",
            "Epoch 00010: LearningRateScheduler reducing learning rate to 0.00031622776601683794.\n",
            "422/422 [==============================] - 1s 2ms/step - loss: 113.3400 - accuracy: 0.8265 - val_loss: 112.2516 - val_accuracy: 0.8588\n",
            "Epoch 11/45\n",
            "\n",
            "Epoch 00011: LearningRateScheduler reducing learning rate to 0.00030151134457776364.\n",
            "422/422 [==============================] - 1s 2ms/step - loss: 113.1629 - accuracy: 0.8335 - val_loss: 112.2264 - val_accuracy: 0.8637\n",
            "Epoch 12/45\n",
            "\n",
            "Epoch 00012: LearningRateScheduler reducing learning rate to 0.0002886751345948129.\n",
            "422/422 [==============================] - 1s 2ms/step - loss: 113.6122 - accuracy: 0.8410 - val_loss: 112.2050 - val_accuracy: 0.8688\n",
            "Epoch 13/45\n",
            "\n",
            "Epoch 00013: LearningRateScheduler reducing learning rate to 0.0002773500981126146.\n",
            "422/422 [==============================] - 1s 2ms/step - loss: 113.3309 - accuracy: 0.8420 - val_loss: 112.1862 - val_accuracy: 0.8707\n",
            "Epoch 14/45\n",
            "\n",
            "Epoch 00014: LearningRateScheduler reducing learning rate to 0.0002672612419124244.\n",
            "422/422 [==============================] - 1s 2ms/step - loss: 112.9537 - accuracy: 0.8492 - val_loss: 112.1702 - val_accuracy: 0.8748\n",
            "Epoch 15/45\n",
            "\n",
            "Epoch 00015: LearningRateScheduler reducing learning rate to 0.0002581988897471611.\n",
            "422/422 [==============================] - 1s 2ms/step - loss: 112.9413 - accuracy: 0.8537 - val_loss: 112.1557 - val_accuracy: 0.8760\n",
            "Epoch 16/45\n",
            "\n",
            "Epoch 00016: LearningRateScheduler reducing learning rate to 0.00025.\n",
            "422/422 [==============================] - 1s 2ms/step - loss: 113.3270 - accuracy: 0.8538 - val_loss: 112.1435 - val_accuracy: 0.8793\n",
            "Epoch 17/45\n",
            "\n",
            "Epoch 00017: LearningRateScheduler reducing learning rate to 0.000242535625036333.\n",
            "422/422 [==============================] - 1s 2ms/step - loss: 113.0588 - accuracy: 0.8602 - val_loss: 112.1316 - val_accuracy: 0.8825\n",
            "Epoch 18/45\n",
            "\n",
            "Epoch 00018: LearningRateScheduler reducing learning rate to 0.00023570226039551587.\n",
            "422/422 [==============================] - 1s 2ms/step - loss: 113.0336 - accuracy: 0.8582 - val_loss: 112.1215 - val_accuracy: 0.8840\n",
            "Epoch 19/45\n",
            "\n",
            "Epoch 00019: LearningRateScheduler reducing learning rate to 0.00022941573387056174.\n",
            "422/422 [==============================] - 1s 2ms/step - loss: 113.1701 - accuracy: 0.8606 - val_loss: 112.1114 - val_accuracy: 0.8862\n",
            "Epoch 20/45\n",
            "\n",
            "Epoch 00020: LearningRateScheduler reducing learning rate to 0.00022360679774997895.\n",
            "422/422 [==============================] - 1s 2ms/step - loss: 113.0485 - accuracy: 0.8641 - val_loss: 112.1036 - val_accuracy: 0.8872\n",
            "Epoch 21/45\n",
            "\n",
            "Epoch 00021: LearningRateScheduler reducing learning rate to 0.0002182178902359924.\n",
            "422/422 [==============================] - 1s 2ms/step - loss: 113.4022 - accuracy: 0.8663 - val_loss: 112.0960 - val_accuracy: 0.8892\n",
            "Epoch 22/45\n",
            "\n",
            "Epoch 00022: LearningRateScheduler reducing learning rate to 0.00021320071635561044.\n",
            "422/422 [==============================] - 1s 2ms/step - loss: 113.0819 - accuracy: 0.8688 - val_loss: 112.0893 - val_accuracy: 0.8910\n",
            "Epoch 23/45\n",
            "\n",
            "Epoch 00023: LearningRateScheduler reducing learning rate to 0.0002085144140570748.\n",
            "422/422 [==============================] - 1s 2ms/step - loss: 113.0469 - accuracy: 0.8702 - val_loss: 112.0821 - val_accuracy: 0.8920\n",
            "Epoch 24/45\n",
            "\n",
            "Epoch 00024: LearningRateScheduler reducing learning rate to 0.00020412414523193154.\n",
            "422/422 [==============================] - 1s 3ms/step - loss: 113.2342 - accuracy: 0.8722 - val_loss: 112.0756 - val_accuracy: 0.8942\n",
            "Epoch 25/45\n",
            "\n",
            "Epoch 00025: LearningRateScheduler reducing learning rate to 0.0002.\n",
            "422/422 [==============================] - 1s 2ms/step - loss: 113.1771 - accuracy: 0.8691 - val_loss: 112.0708 - val_accuracy: 0.8950\n",
            "Epoch 26/45\n",
            "\n",
            "Epoch 00026: LearningRateScheduler reducing learning rate to 0.00019611613513818404.\n",
            "422/422 [==============================] - 1s 2ms/step - loss: 113.1247 - accuracy: 0.8708 - val_loss: 112.0649 - val_accuracy: 0.8958\n",
            "Epoch 27/45\n",
            "\n",
            "Epoch 00027: LearningRateScheduler reducing learning rate to 0.00019245008972987527.\n",
            "422/422 [==============================] - 1s 2ms/step - loss: 113.0055 - accuracy: 0.8774 - val_loss: 112.0600 - val_accuracy: 0.8963\n",
            "Epoch 28/45\n",
            "\n",
            "Epoch 00028: LearningRateScheduler reducing learning rate to 0.0001889822365046136.\n",
            "422/422 [==============================] - 1s 2ms/step - loss: 112.8945 - accuracy: 0.8758 - val_loss: 112.0555 - val_accuracy: 0.8973\n",
            "Epoch 29/45\n",
            "\n",
            "Epoch 00029: LearningRateScheduler reducing learning rate to 0.0001856953381770519.\n",
            "422/422 [==============================] - 1s 2ms/step - loss: 112.9973 - accuracy: 0.8757 - val_loss: 112.0505 - val_accuracy: 0.8995\n",
            "Epoch 30/45\n",
            "\n",
            "Epoch 00030: LearningRateScheduler reducing learning rate to 0.00018257418583505537.\n",
            "422/422 [==============================] - 1s 2ms/step - loss: 112.7074 - accuracy: 0.8774 - val_loss: 112.0468 - val_accuracy: 0.9005\n",
            "Epoch 31/45\n",
            "\n",
            "Epoch 00031: LearningRateScheduler reducing learning rate to 0.00017960530202677493.\n",
            "422/422 [==============================] - 1s 2ms/step - loss: 112.7210 - accuracy: 0.8797 - val_loss: 112.0437 - val_accuracy: 0.9000\n",
            "Epoch 32/45\n",
            "\n",
            "Epoch 00032: LearningRateScheduler reducing learning rate to 0.00017677669529663688.\n",
            "422/422 [==============================] - 1s 2ms/step - loss: 113.2115 - accuracy: 0.8780 - val_loss: 112.0386 - val_accuracy: 0.9017\n",
            "Epoch 33/45\n",
            "\n",
            "Epoch 00033: LearningRateScheduler reducing learning rate to 0.00017407765595569785.\n",
            "422/422 [==============================] - 1s 2ms/step - loss: 112.8058 - accuracy: 0.8815 - val_loss: 112.0356 - val_accuracy: 0.9025\n",
            "Epoch 34/45\n",
            "\n",
            "Epoch 00034: LearningRateScheduler reducing learning rate to 0.00017149858514250885.\n",
            "422/422 [==============================] - 1s 2ms/step - loss: 112.9924 - accuracy: 0.8794 - val_loss: 112.0314 - val_accuracy: 0.9035\n",
            "Epoch 35/45\n",
            "\n",
            "Epoch 00035: LearningRateScheduler reducing learning rate to 0.0001690308509457033.\n",
            "422/422 [==============================] - 1s 2ms/step - loss: 113.1240 - accuracy: 0.8812 - val_loss: 112.0286 - val_accuracy: 0.9033\n",
            "Epoch 36/45\n",
            "\n",
            "Epoch 00036: LearningRateScheduler reducing learning rate to 0.00016666666666666666.\n",
            "422/422 [==============================] - 1s 2ms/step - loss: 112.6686 - accuracy: 0.8827 - val_loss: 112.0252 - val_accuracy: 0.9028\n",
            "Epoch 37/45\n",
            "\n",
            "Epoch 00037: LearningRateScheduler reducing learning rate to 0.0001643989873053573.\n",
            "422/422 [==============================] - 1s 2ms/step - loss: 112.8437 - accuracy: 0.8807 - val_loss: 112.0225 - val_accuracy: 0.9035\n",
            "Epoch 38/45\n",
            "\n",
            "Epoch 00038: LearningRateScheduler reducing learning rate to 0.00016222142113076255.\n",
            "422/422 [==============================] - 1s 2ms/step - loss: 112.9673 - accuracy: 0.8824 - val_loss: 112.0197 - val_accuracy: 0.9052\n",
            "Epoch 39/45\n",
            "\n",
            "Epoch 00039: LearningRateScheduler reducing learning rate to 0.00016012815380508712.\n",
            "422/422 [==============================] - 1s 2ms/step - loss: 112.6941 - accuracy: 0.8857 - val_loss: 112.0170 - val_accuracy: 0.9045\n",
            "Epoch 40/45\n",
            "\n",
            "Epoch 00040: LearningRateScheduler reducing learning rate to 0.00015811388300841897.\n",
            "422/422 [==============================] - 1s 2ms/step - loss: 112.7745 - accuracy: 0.8847 - val_loss: 112.0146 - val_accuracy: 0.9063\n",
            "Epoch 41/45\n",
            "\n",
            "Epoch 00041: LearningRateScheduler reducing learning rate to 0.00015617376188860606.\n",
            "422/422 [==============================] - 1s 2ms/step - loss: 113.0733 - accuracy: 0.8855 - val_loss: 112.0121 - val_accuracy: 0.9053\n",
            "Epoch 42/45\n",
            "\n",
            "Epoch 00042: LearningRateScheduler reducing learning rate to 0.00015430334996209192.\n",
            "422/422 [==============================] - 1s 2ms/step - loss: 112.6249 - accuracy: 0.8847 - val_loss: 112.0098 - val_accuracy: 0.9072\n",
            "Epoch 43/45\n",
            "\n",
            "Epoch 00043: LearningRateScheduler reducing learning rate to 0.00015249857033260467.\n",
            "422/422 [==============================] - 1s 2ms/step - loss: 113.0611 - accuracy: 0.8842 - val_loss: 112.0076 - val_accuracy: 0.9070\n",
            "Epoch 44/45\n",
            "\n",
            "Epoch 00044: LearningRateScheduler reducing learning rate to 0.00015075567228888182.\n",
            "422/422 [==============================] - 1s 2ms/step - loss: 113.0556 - accuracy: 0.8857 - val_loss: 112.0056 - val_accuracy: 0.9072\n",
            "Epoch 45/45\n",
            "\n",
            "Epoch 00045: LearningRateScheduler reducing learning rate to 0.00014907119849998598.\n",
            "422/422 [==============================] - 1s 2ms/step - loss: 112.9654 - accuracy: 0.8884 - val_loss: 112.0032 - val_accuracy: 0.9080\n"
          ],
          "name": "stdout"
        }
      ]
    },
    {
      "cell_type": "markdown",
      "metadata": {
        "id": "jeDI3ue0GE8P"
      },
      "source": [
        "### SGD"
      ]
    },
    {
      "cell_type": "code",
      "metadata": {
        "id": "_HyxVM7ZUv5S",
        "colab": {
          "base_uri": "https://localhost:8080/",
          "height": 295
        },
        "outputId": "41044017-4579-4fc7-a662-bcc8d034f5fa"
      },
      "source": [
        "accuracy_result(model_history[\"SGD\"])"
      ],
      "execution_count": 13,
      "outputs": [
        {
          "output_type": "display_data",
          "data": {
            "image/png": "[encoded data removed]",
            "text/plain": [
              "<Figure size 432x288 with 1 Axes>"
            ]
          },
          "metadata": {
            "tags": [],
            "needs_background": "light"
          }
        }
      ]
    },
    {
      "cell_type": "code",
      "metadata": {
        "id": "uaUz0k3lVhpa",
        "colab": {
          "base_uri": "https://localhost:8080/",
          "height": 295
        },
        "outputId": "8fda9c72-5b2e-458e-e3dc-e050b21d7b2b"
      },
      "source": [
        "loss_result(model_history[\"SGD\"])"
      ],
      "execution_count": 14,
      "outputs": [
        {
          "output_type": "display_data",
          "data": {
            "image/png": "[encoded data removed]",
            "text/plain": [
              "<Figure size 432x288 with 1 Axes>"
            ]
          },
          "metadata": {
            "tags": [],
            "needs_background": "light"
          }
        }
      ]
    },
    {
      "cell_type": "code",
      "metadata": {
        "id": "aehRb9ZlVU5P",
        "colab": {
          "base_uri": "https://localhost:8080/"
        },
        "outputId": "8125d09d-db9a-4c55-be5c-b2b70fdd6703"
      },
      "source": [
        "# Model evaluation.\n",
        "print(\"Evaluate on test data\")\n",
        "results = model_config[\"SGD\"].evaluate(x_test, y_test, batch_size=BATCH_SIZE)\n",
        "print(\"test loss, test acc:\", results)"
      ],
      "execution_count": 15,
      "outputs": [
        {
          "output_type": "stream",
          "text": [
            "Evaluate on test data\n",
            "79/79 [==============================] - 0s 1ms/step - loss: 116.7273 - accuracy: 0.5610\n",
            "test loss, test acc: [116.72726440429688, 0.5609999895095825]\n"
          ],
          "name": "stdout"
        }
      ]
    },
    {
      "cell_type": "markdown",
      "metadata": {
        "id": "orAQxv_rSF7E"
      },
      "source": [
        "### Nesterov Momentum SGD"
      ]
    },
    {
      "cell_type": "code",
      "metadata": {
        "id": "zpOLCgQ_V0Cg",
        "colab": {
          "base_uri": "https://localhost:8080/",
          "height": 295
        },
        "outputId": "8c833e60-c0f1-49b9-fcbf-f9389729e0f4"
      },
      "source": [
        "accuracy_result(model_history[\"Nesterov\"])"
      ],
      "execution_count": 16,
      "outputs": [
        {
          "output_type": "display_data",
          "data": {
            "image/png": "[encoded data removed]",
            "text/plain": [
              "<Figure size 432x288 with 1 Axes>"
            ]
          },
          "metadata": {
            "tags": [],
            "needs_background": "light"
          }
        }
      ]
    },
    {
      "cell_type": "code",
      "metadata": {
        "id": "Oyj5UuI4V0Cg",
        "colab": {
          "base_uri": "https://localhost:8080/",
          "height": 295
        },
        "outputId": "e22cce78-4b54-4e5d-ded8-928574f0c413"
      },
      "source": [
        "loss_result(model_history[\"Nesterov\"])"
      ],
      "execution_count": 17,
      "outputs": [
        {
          "output_type": "display_data",
          "data": {
            "image/png": "[encoded data removed]",
            "text/plain": [
              "<Figure size 432x288 with 1 Axes>"
            ]
          },
          "metadata": {
            "tags": [],
            "needs_background": "light"
          }
        }
      ]
    },
    {
      "cell_type": "code",
      "metadata": {
        "id": "KkwgfOvKV0Ch",
        "colab": {
          "base_uri": "https://localhost:8080/"
        },
        "outputId": "83a59217-223f-4b96-ed40-9460a0db4024"
      },
      "source": [
        "# Model evaluation.\n",
        "print(\"Evaluate on test data\")\n",
        "results = model_config[\"Nesterov\"].evaluate(x_test, y_test, batch_size=BATCH_SIZE)\n",
        "print(\"test loss, test acc:\", results)"
      ],
      "execution_count": 18,
      "outputs": [
        {
          "output_type": "stream",
          "text": [
            "Evaluate on test data\n",
            "79/79 [==============================] - 0s 1ms/step - loss: 116.6494 - accuracy: 0.5595\n",
            "test loss, test acc: [116.64942169189453, 0.559499979019165]\n"
          ],
          "name": "stdout"
        }
      ]
    },
    {
      "cell_type": "markdown",
      "metadata": {
        "id": "EuI3TP6kSLDw"
      },
      "source": [
        "### AdaGrad"
      ]
    },
    {
      "cell_type": "code",
      "metadata": {
        "id": "L4B1_42yWCpu",
        "colab": {
          "base_uri": "https://localhost:8080/",
          "height": 295
        },
        "outputId": "924f72de-76d2-4d34-ac79-6385a3ec5172"
      },
      "source": [
        "accuracy_result(model_history[\"AdaGrad\"])"
      ],
      "execution_count": 19,
      "outputs": [
        {
          "output_type": "display_data",
          "data": {
            "image/png": "[encoded data removed]",
            "text/plain": [
              "<Figure size 432x288 with 1 Axes>"
            ]
          },
          "metadata": {
            "tags": [],
            "needs_background": "light"
          }
        }
      ]
    },
    {
      "cell_type": "code",
      "metadata": {
        "id": "ogzBRlXZWCpv",
        "colab": {
          "base_uri": "https://localhost:8080/",
          "height": 295
        },
        "outputId": "131261cd-61bc-412a-b498-7aeea4142df1"
      },
      "source": [
        "loss_result(model_history[\"AdaGrad\"])"
      ],
      "execution_count": 20,
      "outputs": [
        {
          "output_type": "display_data",
          "data": {
            "image/png": "[encoded data removed]",
            "text/plain": [
              "<Figure size 432x288 with 1 Axes>"
            ]
          },
          "metadata": {
            "tags": [],
            "needs_background": "light"
          }
        }
      ]
    },
    {
      "cell_type": "code",
      "metadata": {
        "id": "XvyWkYxMWCpv",
        "colab": {
          "base_uri": "https://localhost:8080/"
        },
        "outputId": "1ddbb796-0f86-4944-8374-e22cbd8a0e6a"
      },
      "source": [
        "# Model evaluation.\n",
        "print(\"Evaluate on test data\")\n",
        "results = model_config[\"AdaGrad\"].evaluate(x_test, y_test, batch_size=BATCH_SIZE)\n",
        "print(\"test loss, test acc:\", results)"
      ],
      "execution_count": 21,
      "outputs": [
        {
          "output_type": "stream",
          "text": [
            "Evaluate on test data\n",
            "79/79 [==============================] - 0s 1ms/step - loss: 122.4077 - accuracy: 0.1571\n",
            "test loss, test acc: [122.40766143798828, 0.15710000693798065]\n"
          ],
          "name": "stdout"
        }
      ]
    },
    {
      "cell_type": "markdown",
      "metadata": {
        "id": "qyT0-AaBSKos"
      },
      "source": [
        "### Adam"
      ]
    },
    {
      "cell_type": "code",
      "metadata": {
        "id": "gjARDJj8aQHx",
        "colab": {
          "base_uri": "https://localhost:8080/",
          "height": 295
        },
        "outputId": "e01bca0d-a70e-428b-f1d8-8133e9b86f3d"
      },
      "source": [
        "accuracy_result(model_history[\"ADAM\"])"
      ],
      "execution_count": 22,
      "outputs": [
        {
          "output_type": "display_data",
          "data": {
            "image/png": "[encoded data removed]",
            "text/plain": [
              "<Figure size 432x288 with 1 Axes>"
            ]
          },
          "metadata": {
            "tags": [],
            "needs_background": "light"
          }
        }
      ]
    },
    {
      "cell_type": "code",
      "metadata": {
        "id": "hUyM24WMaQH5",
        "colab": {
          "base_uri": "https://localhost:8080/",
          "height": 295
        },
        "outputId": "9607fe8b-69e1-4180-fc3d-84e1f755c988"
      },
      "source": [
        "loss_result(model_history[\"ADAM\"])"
      ],
      "execution_count": 23,
      "outputs": [
        {
          "output_type": "display_data",
          "data": {
            "image/png": "[encoded data removed]",
            "text/plain": [
              "<Figure size 432x288 with 1 Axes>"
            ]
          },
          "metadata": {
            "tags": [],
            "needs_background": "light"
          }
        }
      ]
    },
    {
      "cell_type": "code",
      "metadata": {
        "id": "v3piP8EQaQH6",
        "colab": {
          "base_uri": "https://localhost:8080/"
        },
        "outputId": "b81de90a-dfaf-444f-94ea-83448597e12a"
      },
      "source": [
        "# Model evaluation.\n",
        "print(\"Evaluate on test data\")\n",
        "results = model_config[\"ADAM\"].evaluate(x_test, y_test, batch_size=BATCH_SIZE)\n",
        "print(\"test loss, test acc:\", results)"
      ],
      "execution_count": 24,
      "outputs": [
        {
          "output_type": "stream",
          "text": [
            "Evaluate on test data\n",
            "79/79 [==============================] - 0s 2ms/step - loss: 114.6086 - accuracy: 0.8957\n",
            "test loss, test acc: [114.60861206054688, 0.8956999778747559]\n"
          ],
          "name": "stdout"
        }
      ]
    }
  ]
}