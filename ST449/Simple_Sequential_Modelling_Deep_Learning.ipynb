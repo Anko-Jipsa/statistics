{
  "nbformat": 4,
  "nbformat_minor": 0,
  "metadata": {
    "colab": {
      "name": "Simple_Sequential_Modelling_Deep_Learning.ipynb",
      "provenance": [],
      "toc_visible": true
    },
    "kernelspec": {
      "name": "python3",
      "display_name": "Python 3"
    },
    "accelerator": "GPU"
  },
  "cells": [
    {
      "cell_type": "code",
      "metadata": {
        "id": "NRPI_Wb8fA7o"
      },
      "source": [
        ""
      ],
      "execution_count": null,
      "outputs": []
    },
    {
      "cell_type": "markdown",
      "metadata": {
        "id": "MfSqsKMfd_ts"
      },
      "source": [
        "# Setup"
      ]
    },
    {
      "cell_type": "code",
      "metadata": {
        "id": "7DTWTV4H3YaL"
      },
      "source": [
        "import tensorflow as tf\n",
        "from tensorflow import keras\n",
        "from tensorflow.keras import layers\n",
        "import numpy as np\n",
        "import pandas as pd\n",
        "import math\n",
        "import matplotlib.pyplot as plt\n",
        "import IPython.display as display\n",
        "import tensorflow_datasets as tfds"
      ],
      "execution_count": 1,
      "outputs": []
    },
    {
      "cell_type": "markdown",
      "metadata": {
        "id": "5VDaTS9_KdXM"
      },
      "source": [
        "## Network Construction"
      ]
    },
    {
      "cell_type": "markdown",
      "metadata": {
        "id": "LJal3utFF9hT"
      },
      "source": [
        "### Hyperparameter"
      ]
    },
    {
      "cell_type": "code",
      "metadata": {
        "id": "UDyECIeOCM9r"
      },
      "source": [
        "EPOCHS = 45\n",
        "BATCH_SIZE = 128\n",
        "LR_RATE = 0.001\n",
        "MOMENTUM = 0.7\n",
        "L2_LAMBDA = 0.01"
      ],
      "execution_count": 2,
      "outputs": []
    },
    {
      "cell_type": "markdown",
      "metadata": {
        "id": "OozRE5ol3esp"
      },
      "source": [
        " ### Data"
      ]
    },
    {
      "cell_type": "code",
      "metadata": {
        "id": "yKrIb6zh3aSa"
      },
      "source": [
        "(x_train, y_train), (x_test, y_test) = tf.keras.datasets.mnist.load_data()\n",
        "\n",
        "# Preprocess the data.\n",
        "x_train = x_train.reshape(60000, 784).astype(\"float32\") / 255\n",
        "x_test = x_test.reshape(10000, 784).astype(\"float32\") / 255\n",
        "\n",
        "y_train = y_train.astype(\"float32\")\n",
        "y_test = y_test.astype(\"float32\")\n",
        "\n",
        "# Convert class vectors to binary class matrices.\n",
        "y_train = keras.utils.to_categorical(y_train, 10)\n",
        "y_test = keras.utils.to_categorical(y_test, 10)"
      ],
      "execution_count": 3,
      "outputs": []
    },
    {
      "cell_type": "markdown",
      "metadata": {
        "id": "16wM0fSzFmoo"
      },
      "source": [
        "### Loss Function"
      ]
    },
    {
      "cell_type": "markdown",
      "metadata": {
        "id": "oGLLtxUAFahu"
      },
      "source": [
        "#### L2 Regularisation"
      ]
    },
    {
      "cell_type": "code",
      "metadata": {
        "id": "IwK5_iro5QLB"
      },
      "source": [
        "class RegularisedLayer(layers.Layer):\n",
        "    def call(self, inputs):\n",
        "        self.add_loss(tf.reduce_sum(inputs**2) * L2_LAMBDA)\n",
        "        return inputs  # Pass-through layer."
      ],
      "execution_count": 4,
      "outputs": []
    },
    {
      "cell_type": "markdown",
      "metadata": {
        "id": "mgAmt0EVFf4e"
      },
      "source": [
        "#### Cross Entropy"
      ]
    },
    {
      "cell_type": "code",
      "metadata": {
        "id": "edgWilmz5ReV"
      },
      "source": [
        "class CrossEntropy(keras.losses.Loss):\n",
        "    def __init__(self, name=\"loss\"):\n",
        "        super().__init__(name=name)\n",
        "\n",
        "    def call(self, y_true, y_pred):\n",
        "      # y_true_one_hot = tf.one_hot(y_true, depth=10)\n",
        "\n",
        "      # Replace prediction values to avoid log(0) error.\n",
        "      y_pred = tf.clip_by_value(y_pred, 1e-15, 1.)\n",
        "      # Cross entropy.\n",
        "      entropy = tf.reduce_mean(-tf.reduce_sum(y_true * tf.math.log(y_pred), 1))\n",
        "      return entropy"
      ],
      "execution_count": 5,
      "outputs": []
    },
    {
      "cell_type": "markdown",
      "metadata": {
        "id": "YrTJiaoyKpdW"
      },
      "source": [
        "### Learning Rate Decay Schedule"
      ]
    },
    {
      "cell_type": "code",
      "metadata": {
        "colab": {
          "base_uri": "https://localhost:8080/",
          "height": 419
        },
        "id": "NyguKlJJKa5l",
        "outputId": "ea63c086-d84b-4025-d72b-4ef56737bfcf"
      },
      "source": [
        "# Learning rate decay function.\n",
        "def lr_decay(epoch):\n",
        "  return LR_RATE / math.sqrt(1+epoch)\n",
        "\n",
        "# Utility callback that reflects the learning rate decay.\n",
        "lr_decay_callback = tf.keras.callbacks.LearningRateScheduler(lr_decay, verbose=True)\n",
        "\n",
        "def plot_learning_rate(lr_func, epochs):\n",
        "  xx = np.arange(epochs+1, dtype=np.float)\n",
        "  y = [lr_decay(x) for x in xx]\n",
        "  fig, ax = plt.subplots(figsize=(9, 6))\n",
        "  ax.set_xlabel('epochs')\n",
        "  ax.set_title('Learning rate\\ndecays from {:0.3g} to {:0.3g}'.format(y[0], y[-2]))\n",
        "  ax.minorticks_on()\n",
        "  ax.grid(True, which='major', axis='both', linestyle='-', linewidth=1)\n",
        "  ax.grid(True, which='minor', axis='both', linestyle=':', linewidth=0.5)\n",
        "  ax.step(xx,y, linewidth=3, where='post')\n",
        "\n",
        "# Display the learning rate decay.\n",
        "plot_learning_rate(lr_decay, EPOCHS)"
      ],
      "execution_count": 6,
      "outputs": [
        {
          "output_type": "display_data",
          "data": {
            "image/png": "[encoded data removed]",
            "text/plain": [
              "<Figure size 648x432 with 1 Axes>"
            ]
          },
          "metadata": {
            "tags": [],
            "needs_background": "light"
          }
        }
      ]
    },
    {
      "cell_type": "markdown",
      "metadata": {
        "id": "mo5DKmolUrCU"
      },
      "source": [
        "### Visualisation functions"
      ]
    },
    {
      "cell_type": "code",
      "metadata": {
        "id": "GWg9699_Up5b"
      },
      "source": [
        "def accuracy_result(model):\n",
        "  # Result for accuracy.\n",
        "  plt.plot(model.history['accuracy'])\n",
        "  plt.plot(model.history['val_accuracy'])\n",
        "  plt.title('model accuracy')\n",
        "  plt.ylabel('accuracy')\n",
        "  plt.xlabel('epoch')\n",
        "  plt.legend(['train', 'test'], loc='upper left')\n",
        "  plt.show()"
      ],
      "execution_count": 7,
      "outputs": []
    },
    {
      "cell_type": "code",
      "metadata": {
        "id": "CXLh6EwXUuSH"
      },
      "source": [
        "def loss_result(model):\n",
        "  # Result for loss.\n",
        "  plt.plot(model.history['loss'])\n",
        "  plt.plot(model.history['val_loss'])\n",
        "  plt.title('model loss')\n",
        "  plt.ylabel('loss')\n",
        "  plt.xlabel('epoch')\n",
        "  plt.legend(['train', 'test'], loc='upper left')\n",
        "  plt.show()"
      ],
      "execution_count": 8,
      "outputs": []
    },
    {
      "cell_type": "markdown",
      "metadata": {
        "id": "aiWyr_L8Fq48"
      },
      "source": [
        "### Network Architecture"
      ]
    },
    {
      "cell_type": "code",
      "metadata": {
        "id": "3UnsMU4B9xIq"
      },
      "source": [
        "class LogitNetwork(tf.keras.Model):\n",
        "\n",
        "  def __init__(self):\n",
        "    super(LogitNetwork, self).__init__()\n",
        "\n",
        "    # Initialising the network layer.\n",
        "    self.initialiser = tf.keras.initializers.RandomNormal(mean=0., stddev=1.)\n",
        "\n",
        "  def initialise(self):\n",
        "    # Network design.\n",
        "    model = tf.keras.Sequential() # Initial network.\n",
        "    model.add(RegularisedLayer())\n",
        "    model.add(tf.keras.layers.Dense(10, \n",
        "                                activation='softmax', \n",
        "                                kernel_initializer=self.initialiser,\n",
        "                                #kernel_regularizer=tf.keras.regularizers.L2(0.01)\n",
        "                                )) # Output layer.\n",
        "    return model\n",
        "    \n",
        "\n",
        "  def __call__(self, optimiser):\n",
        "    model = self.initialise()\n",
        "    model.compile(optimizer=optimiser, \n",
        "                  loss=CrossEntropy(),\n",
        "                  metrics=[\"accuracy\"]\n",
        "                  )\n",
        "    \n",
        "    return model"
      ],
      "execution_count": 9,
      "outputs": []
    },
    {
      "cell_type": "markdown",
      "metadata": {
        "id": "VduLSwa3GAaB"
      },
      "source": [
        "## Network initialisation"
      ]
    },
    {
      "cell_type": "code",
      "metadata": {
        "id": "frXH8TbNDA03"
      },
      "source": [
        "model = LogitNetwork()"
      ],
      "execution_count": 10,
      "outputs": []
    },
    {
      "cell_type": "markdown",
      "metadata": {
        "id": "ShtPpkcaGCeu"
      },
      "source": [
        "## Testing different optimisers"
      ]
    },
    {
      "cell_type": "code",
      "metadata": {
        "id": "JtzXMZSPG7Vx"
      },
      "source": [
        "# Dictionary of 4 different optimisers.\n",
        "optimiser_list = {\n",
        "    \"SGD\": tf.optimizers.SGD(learning_rate=LR_RATE, momentum=MOMENTUM, name=\"SGD\"),\n",
        "    \"Nesterov\": tf.keras.optimizers.SGD(learning_rate=LR_RATE, momentum=MOMENTUM, nesterov=True, name='Nesterov'),\n",
        "    \"AdaGrad\": tf.keras.optimizers.Adagrad(learning_rate=LR_RATE, name='AdaGrad'),\n",
        "    \"ADAM\": tf.keras.optimizers.Adam(learning_rate=LR_RATE, name='ADAM')\n",
        "}"
      ],
      "execution_count": 11,
      "outputs": []
    },
    {
      "cell_type": "code",
      "metadata": {
        "colab": {
          "base_uri": "https://localhost:8080/"
        },
        "id": "dGF71o4AHXqY",
        "outputId": "b2a9d44d-e43d-4106-e5f9-90e0ebe2e88e"
      },
      "source": [
        "# Looping through 4 different optimisers.\n",
        "def loop_model(optimiser_list, x_train, y_train, BATCH_SIZE, EPOCHS):\n",
        "\n",
        "  # Initialise output dictionary.\n",
        "  model_config = {}\n",
        "  model_history = {}\n",
        "\n",
        "  # Implement optimiser and fitting the network.\n",
        "  for key, item in optimiser_list.items():\n",
        "    print(\"\\n\")\n",
        "    print(f\"#### {key} Training ####\")\n",
        "    model_config[key] = model(item)\n",
        "    model_history[key] = model_config[key].fit(x_train,\n",
        "                                               y_train,\n",
        "                                               batch_size=BATCH_SIZE,\n",
        "                                               epochs=EPOCHS,\n",
        "                                               validation_data=(x_test, y_test),\n",
        "                                               verbose=0,\n",
        "                                               callbacks=[lr_decay_callback])\n",
        "  return model_config, model_history\n",
        "\n",
        "model_config, model_history = loop_model(optimiser_list, x_train, y_train, BATCH_SIZE, EPOCHS)"
      ],
      "execution_count": 12,
      "outputs": [
        {
          "output_type": "stream",
          "text": [
            "\n",
            "\n",
            "#### SGD Training ####\n",
            "\n",
            "Epoch 00001: LearningRateScheduler reducing learning rate to 0.001.\n",
            "\n",
            "Epoch 00002: LearningRateScheduler reducing learning rate to 0.0007071067811865475.\n",
            "\n",
            "Epoch 00003: LearningRateScheduler reducing learning rate to 0.0005773502691896258.\n",
            "\n",
            "Epoch 00004: LearningRateScheduler reducing learning rate to 0.0005.\n",
            "\n",
            "Epoch 00005: LearningRateScheduler reducing learning rate to 0.0004472135954999579.\n",
            "\n",
            "Epoch 00006: LearningRateScheduler reducing learning rate to 0.0004082482904638631.\n",
            "\n",
            "Epoch 00007: LearningRateScheduler reducing learning rate to 0.0003779644730092272.\n",
            "\n",
            "Epoch 00008: LearningRateScheduler reducing learning rate to 0.00035355339059327376.\n",
            "\n",
            "Epoch 00009: LearningRateScheduler reducing learning rate to 0.0003333333333333333.\n",
            "\n",
            "Epoch 00010: LearningRateScheduler reducing learning rate to 0.00031622776601683794.\n",
            "\n",
            "Epoch 00011: LearningRateScheduler reducing learning rate to 0.00030151134457776364.\n",
            "\n",
            "Epoch 00012: LearningRateScheduler reducing learning rate to 0.0002886751345948129.\n",
            "\n",
            "Epoch 00013: LearningRateScheduler reducing learning rate to 0.0002773500981126146.\n",
            "\n",
            "Epoch 00014: LearningRateScheduler reducing learning rate to 0.0002672612419124244.\n",
            "\n",
            "Epoch 00015: LearningRateScheduler reducing learning rate to 0.0002581988897471611.\n",
            "\n",
            "Epoch 00016: LearningRateScheduler reducing learning rate to 0.00025.\n",
            "\n",
            "Epoch 00017: LearningRateScheduler reducing learning rate to 0.000242535625036333.\n",
            "\n",
            "Epoch 00018: LearningRateScheduler reducing learning rate to 0.00023570226039551587.\n",
            "\n",
            "Epoch 00019: LearningRateScheduler reducing learning rate to 0.00022941573387056174.\n",
            "\n",
            "Epoch 00020: LearningRateScheduler reducing learning rate to 0.00022360679774997895.\n",
            "\n",
            "Epoch 00021: LearningRateScheduler reducing learning rate to 0.0002182178902359924.\n",
            "\n",
            "Epoch 00022: LearningRateScheduler reducing learning rate to 0.00021320071635561044.\n",
            "\n",
            "Epoch 00023: LearningRateScheduler reducing learning rate to 0.0002085144140570748.\n",
            "\n",
            "Epoch 00024: LearningRateScheduler reducing learning rate to 0.00020412414523193154.\n",
            "\n",
            "Epoch 00025: LearningRateScheduler reducing learning rate to 0.0002.\n",
            "\n",
            "Epoch 00026: LearningRateScheduler reducing learning rate to 0.00019611613513818404.\n",
            "\n",
            "Epoch 00027: LearningRateScheduler reducing learning rate to 0.00019245008972987527.\n",
            "\n",
            "Epoch 00028: LearningRateScheduler reducing learning rate to 0.0001889822365046136.\n",
            "\n",
            "Epoch 00029: LearningRateScheduler reducing learning rate to 0.0001856953381770519.\n",
            "\n",
            "Epoch 00030: LearningRateScheduler reducing learning rate to 0.00018257418583505537.\n",
            "\n",
            "Epoch 00031: LearningRateScheduler reducing learning rate to 0.00017960530202677493.\n",
            "\n",
            "Epoch 00032: LearningRateScheduler reducing learning rate to 0.00017677669529663688.\n",
            "\n",
            "Epoch 00033: LearningRateScheduler reducing learning rate to 0.00017407765595569785.\n",
            "\n",
            "Epoch 00034: LearningRateScheduler reducing learning rate to 0.00017149858514250885.\n",
            "\n",
            "Epoch 00035: LearningRateScheduler reducing learning rate to 0.0001690308509457033.\n",
            "\n",
            "Epoch 00036: LearningRateScheduler reducing learning rate to 0.00016666666666666666.\n",
            "\n",
            "Epoch 00037: LearningRateScheduler reducing learning rate to 0.0001643989873053573.\n",
            "\n",
            "Epoch 00038: LearningRateScheduler reducing learning rate to 0.00016222142113076255.\n",
            "\n",
            "Epoch 00039: LearningRateScheduler reducing learning rate to 0.00016012815380508712.\n",
            "\n",
            "Epoch 00040: LearningRateScheduler reducing learning rate to 0.00015811388300841897.\n",
            "\n",
            "Epoch 00041: LearningRateScheduler reducing learning rate to 0.00015617376188860606.\n",
            "\n",
            "Epoch 00042: LearningRateScheduler reducing learning rate to 0.00015430334996209192.\n",
            "\n",
            "Epoch 00043: LearningRateScheduler reducing learning rate to 0.00015249857033260467.\n",
            "\n",
            "Epoch 00044: LearningRateScheduler reducing learning rate to 0.00015075567228888182.\n",
            "\n",
            "Epoch 00045: LearningRateScheduler reducing learning rate to 0.00014907119849998598.\n",
            "\n",
            "\n",
            "#### Nesterov Training ####\n",
            "\n",
            "Epoch 00001: LearningRateScheduler reducing learning rate to 0.001.\n",
            "\n",
            "Epoch 00002: LearningRateScheduler reducing learning rate to 0.0007071067811865475.\n",
            "\n",
            "Epoch 00003: LearningRateScheduler reducing learning rate to 0.0005773502691896258.\n",
            "\n",
            "Epoch 00004: LearningRateScheduler reducing learning rate to 0.0005.\n",
            "\n",
            "Epoch 00005: LearningRateScheduler reducing learning rate to 0.0004472135954999579.\n",
            "\n",
            "Epoch 00006: LearningRateScheduler reducing learning rate to 0.0004082482904638631.\n",
            "\n",
            "Epoch 00007: LearningRateScheduler reducing learning rate to 0.0003779644730092272.\n",
            "\n",
            "Epoch 00008: LearningRateScheduler reducing learning rate to 0.00035355339059327376.\n",
            "\n",
            "Epoch 00009: LearningRateScheduler reducing learning rate to 0.0003333333333333333.\n",
            "\n",
            "Epoch 00010: LearningRateScheduler reducing learning rate to 0.00031622776601683794.\n",
            "\n",
            "Epoch 00011: LearningRateScheduler reducing learning rate to 0.00030151134457776364.\n",
            "\n",
            "Epoch 00012: LearningRateScheduler reducing learning rate to 0.0002886751345948129.\n",
            "\n",
            "Epoch 00013: LearningRateScheduler reducing learning rate to 0.0002773500981126146.\n",
            "\n",
            "Epoch 00014: LearningRateScheduler reducing learning rate to 0.0002672612419124244.\n",
            "\n",
            "Epoch 00015: LearningRateScheduler reducing learning rate to 0.0002581988897471611.\n",
            "\n",
            "Epoch 00016: LearningRateScheduler reducing learning rate to 0.00025.\n",
            "\n",
            "Epoch 00017: LearningRateScheduler reducing learning rate to 0.000242535625036333.\n",
            "\n",
            "Epoch 00018: LearningRateScheduler reducing learning rate to 0.00023570226039551587.\n",
            "\n",
            "Epoch 00019: LearningRateScheduler reducing learning rate to 0.00022941573387056174.\n",
            "\n",
            "Epoch 00020: LearningRateScheduler reducing learning rate to 0.00022360679774997895.\n",
            "\n",
            "Epoch 00021: LearningRateScheduler reducing learning rate to 0.0002182178902359924.\n",
            "\n",
            "Epoch 00022: LearningRateScheduler reducing learning rate to 0.00021320071635561044.\n",
            "\n",
            "Epoch 00023: LearningRateScheduler reducing learning rate to 0.0002085144140570748.\n",
            "\n",
            "Epoch 00024: LearningRateScheduler reducing learning rate to 0.00020412414523193154.\n",
            "\n",
            "Epoch 00025: LearningRateScheduler reducing learning rate to 0.0002.\n",
            "\n",
            "Epoch 00026: LearningRateScheduler reducing learning rate to 0.00019611613513818404.\n",
            "\n",
            "Epoch 00027: LearningRateScheduler reducing learning rate to 0.00019245008972987527.\n",
            "\n",
            "Epoch 00028: LearningRateScheduler reducing learning rate to 0.0001889822365046136.\n",
            "\n",
            "Epoch 00029: LearningRateScheduler reducing learning rate to 0.0001856953381770519.\n",
            "\n",
            "Epoch 00030: LearningRateScheduler reducing learning rate to 0.00018257418583505537.\n",
            "\n",
            "Epoch 00031: LearningRateScheduler reducing learning rate to 0.00017960530202677493.\n",
            "\n",
            "Epoch 00032: LearningRateScheduler reducing learning rate to 0.00017677669529663688.\n",
            "\n",
            "Epoch 00033: LearningRateScheduler reducing learning rate to 0.00017407765595569785.\n",
            "\n",
            "Epoch 00034: LearningRateScheduler reducing learning rate to 0.00017149858514250885.\n",
            "\n",
            "Epoch 00035: LearningRateScheduler reducing learning rate to 0.0001690308509457033.\n",
            "\n",
            "Epoch 00036: LearningRateScheduler reducing learning rate to 0.00016666666666666666.\n",
            "\n",
            "Epoch 00037: LearningRateScheduler reducing learning rate to 0.0001643989873053573.\n",
            "\n",
            "Epoch 00038: LearningRateScheduler reducing learning rate to 0.00016222142113076255.\n",
            "\n",
            "Epoch 00039: LearningRateScheduler reducing learning rate to 0.00016012815380508712.\n",
            "\n",
            "Epoch 00040: LearningRateScheduler reducing learning rate to 0.00015811388300841897.\n",
            "\n",
            "Epoch 00041: LearningRateScheduler reducing learning rate to 0.00015617376188860606.\n",
            "\n",
            "Epoch 00042: LearningRateScheduler reducing learning rate to 0.00015430334996209192.\n",
            "\n",
            "Epoch 00043: LearningRateScheduler reducing learning rate to 0.00015249857033260467.\n",
            "\n",
            "Epoch 00044: LearningRateScheduler reducing learning rate to 0.00015075567228888182.\n",
            "\n",
            "Epoch 00045: LearningRateScheduler reducing learning rate to 0.00014907119849998598.\n",
            "\n",
            "\n",
            "#### AdaGrad Training ####\n",
            "\n",
            "Epoch 00001: LearningRateScheduler reducing learning rate to 0.001.\n",
            "\n",
            "Epoch 00002: LearningRateScheduler reducing learning rate to 0.0007071067811865475.\n",
            "\n",
            "Epoch 00003: LearningRateScheduler reducing learning rate to 0.0005773502691896258.\n",
            "\n",
            "Epoch 00004: LearningRateScheduler reducing learning rate to 0.0005.\n",
            "\n",
            "Epoch 00005: LearningRateScheduler reducing learning rate to 0.0004472135954999579.\n",
            "\n",
            "Epoch 00006: LearningRateScheduler reducing learning rate to 0.0004082482904638631.\n",
            "\n",
            "Epoch 00007: LearningRateScheduler reducing learning rate to 0.0003779644730092272.\n",
            "\n",
            "Epoch 00008: LearningRateScheduler reducing learning rate to 0.00035355339059327376.\n",
            "\n",
            "Epoch 00009: LearningRateScheduler reducing learning rate to 0.0003333333333333333.\n",
            "\n",
            "Epoch 00010: LearningRateScheduler reducing learning rate to 0.00031622776601683794.\n",
            "\n",
            "Epoch 00011: LearningRateScheduler reducing learning rate to 0.00030151134457776364.\n",
            "\n",
            "Epoch 00012: LearningRateScheduler reducing learning rate to 0.0002886751345948129.\n",
            "\n",
            "Epoch 00013: LearningRateScheduler reducing learning rate to 0.0002773500981126146.\n",
            "\n",
            "Epoch 00014: LearningRateScheduler reducing learning rate to 0.0002672612419124244.\n",
            "\n",
            "Epoch 00015: LearningRateScheduler reducing learning rate to 0.0002581988897471611.\n",
            "\n",
            "Epoch 00016: LearningRateScheduler reducing learning rate to 0.00025.\n",
            "\n",
            "Epoch 00017: LearningRateScheduler reducing learning rate to 0.000242535625036333.\n",
            "\n",
            "Epoch 00018: LearningRateScheduler reducing learning rate to 0.00023570226039551587.\n",
            "\n",
            "Epoch 00019: LearningRateScheduler reducing learning rate to 0.00022941573387056174.\n",
            "\n",
            "Epoch 00020: LearningRateScheduler reducing learning rate to 0.00022360679774997895.\n",
            "\n",
            "Epoch 00021: LearningRateScheduler reducing learning rate to 0.0002182178902359924.\n",
            "\n",
            "Epoch 00022: LearningRateScheduler reducing learning rate to 0.00021320071635561044.\n",
            "\n",
            "Epoch 00023: LearningRateScheduler reducing learning rate to 0.0002085144140570748.\n",
            "\n",
            "Epoch 00024: LearningRateScheduler reducing learning rate to 0.00020412414523193154.\n",
            "\n",
            "Epoch 00025: LearningRateScheduler reducing learning rate to 0.0002.\n",
            "\n",
            "Epoch 00026: LearningRateScheduler reducing learning rate to 0.00019611613513818404.\n",
            "\n",
            "Epoch 00027: LearningRateScheduler reducing learning rate to 0.00019245008972987527.\n",
            "\n",
            "Epoch 00028: LearningRateScheduler reducing learning rate to 0.0001889822365046136.\n",
            "\n",
            "Epoch 00029: LearningRateScheduler reducing learning rate to 0.0001856953381770519.\n",
            "\n",
            "Epoch 00030: LearningRateScheduler reducing learning rate to 0.00018257418583505537.\n",
            "\n",
            "Epoch 00031: LearningRateScheduler reducing learning rate to 0.00017960530202677493.\n",
            "\n",
            "Epoch 00032: LearningRateScheduler reducing learning rate to 0.00017677669529663688.\n",
            "\n",
            "Epoch 00033: LearningRateScheduler reducing learning rate to 0.00017407765595569785.\n",
            "\n",
            "Epoch 00034: LearningRateScheduler reducing learning rate to 0.00017149858514250885.\n",
            "\n",
            "Epoch 00035: LearningRateScheduler reducing learning rate to 0.0001690308509457033.\n",
            "\n",
            "Epoch 00036: LearningRateScheduler reducing learning rate to 0.00016666666666666666.\n",
            "\n",
            "Epoch 00037: LearningRateScheduler reducing learning rate to 0.0001643989873053573.\n",
            "\n",
            "Epoch 00038: LearningRateScheduler reducing learning rate to 0.00016222142113076255.\n",
            "\n",
            "Epoch 00039: LearningRateScheduler reducing learning rate to 0.00016012815380508712.\n",
            "\n",
            "Epoch 00040: LearningRateScheduler reducing learning rate to 0.00015811388300841897.\n",
            "\n",
            "Epoch 00041: LearningRateScheduler reducing learning rate to 0.00015617376188860606.\n",
            "\n",
            "Epoch 00042: LearningRateScheduler reducing learning rate to 0.00015430334996209192.\n",
            "\n",
            "Epoch 00043: LearningRateScheduler reducing learning rate to 0.00015249857033260467.\n",
            "\n",
            "Epoch 00044: LearningRateScheduler reducing learning rate to 0.00015075567228888182.\n",
            "\n",
            "Epoch 00045: LearningRateScheduler reducing learning rate to 0.00014907119849998598.\n",
            "\n",
            "\n",
            "#### ADAM Training ####\n",
            "\n",
            "Epoch 00001: LearningRateScheduler reducing learning rate to 0.001.\n",
            "\n",
            "Epoch 00002: LearningRateScheduler reducing learning rate to 0.0007071067811865475.\n",
            "\n",
            "Epoch 00003: LearningRateScheduler reducing learning rate to 0.0005773502691896258.\n",
            "\n",
            "Epoch 00004: LearningRateScheduler reducing learning rate to 0.0005.\n",
            "\n",
            "Epoch 00005: LearningRateScheduler reducing learning rate to 0.0004472135954999579.\n",
            "\n",
            "Epoch 00006: LearningRateScheduler reducing learning rate to 0.0004082482904638631.\n",
            "\n",
            "Epoch 00007: LearningRateScheduler reducing learning rate to 0.0003779644730092272.\n",
            "\n",
            "Epoch 00008: LearningRateScheduler reducing learning rate to 0.00035355339059327376.\n",
            "\n",
            "Epoch 00009: LearningRateScheduler reducing learning rate to 0.0003333333333333333.\n",
            "\n",
            "Epoch 00010: LearningRateScheduler reducing learning rate to 0.00031622776601683794.\n",
            "\n",
            "Epoch 00011: LearningRateScheduler reducing learning rate to 0.00030151134457776364.\n",
            "\n",
            "Epoch 00012: LearningRateScheduler reducing learning rate to 0.0002886751345948129.\n",
            "\n",
            "Epoch 00013: LearningRateScheduler reducing learning rate to 0.0002773500981126146.\n",
            "\n",
            "Epoch 00014: LearningRateScheduler reducing learning rate to 0.0002672612419124244.\n",
            "\n",
            "Epoch 00015: LearningRateScheduler reducing learning rate to 0.0002581988897471611.\n",
            "\n",
            "Epoch 00016: LearningRateScheduler reducing learning rate to 0.00025.\n",
            "\n",
            "Epoch 00017: LearningRateScheduler reducing learning rate to 0.000242535625036333.\n",
            "\n",
            "Epoch 00018: LearningRateScheduler reducing learning rate to 0.00023570226039551587.\n",
            "\n",
            "Epoch 00019: LearningRateScheduler reducing learning rate to 0.00022941573387056174.\n",
            "\n",
            "Epoch 00020: LearningRateScheduler reducing learning rate to 0.00022360679774997895.\n",
            "\n",
            "Epoch 00021: LearningRateScheduler reducing learning rate to 0.0002182178902359924.\n",
            "\n",
            "Epoch 00022: LearningRateScheduler reducing learning rate to 0.00021320071635561044.\n",
            "\n",
            "Epoch 00023: LearningRateScheduler reducing learning rate to 0.0002085144140570748.\n",
            "\n",
            "Epoch 00024: LearningRateScheduler reducing learning rate to 0.00020412414523193154.\n",
            "\n",
            "Epoch 00025: LearningRateScheduler reducing learning rate to 0.0002.\n",
            "\n",
            "Epoch 00026: LearningRateScheduler reducing learning rate to 0.00019611613513818404.\n",
            "\n",
            "Epoch 00027: LearningRateScheduler reducing learning rate to 0.00019245008972987527.\n",
            "\n",
            "Epoch 00028: LearningRateScheduler reducing learning rate to 0.0001889822365046136.\n",
            "\n",
            "Epoch 00029: LearningRateScheduler reducing learning rate to 0.0001856953381770519.\n",
            "\n",
            "Epoch 00030: LearningRateScheduler reducing learning rate to 0.00018257418583505537.\n",
            "\n",
            "Epoch 00031: LearningRateScheduler reducing learning rate to 0.00017960530202677493.\n",
            "\n",
            "Epoch 00032: LearningRateScheduler reducing learning rate to 0.00017677669529663688.\n",
            "\n",
            "Epoch 00033: LearningRateScheduler reducing learning rate to 0.00017407765595569785.\n",
            "\n",
            "Epoch 00034: LearningRateScheduler reducing learning rate to 0.00017149858514250885.\n",
            "\n",
            "Epoch 00035: LearningRateScheduler reducing learning rate to 0.0001690308509457033.\n",
            "\n",
            "Epoch 00036: LearningRateScheduler reducing learning rate to 0.00016666666666666666.\n",
            "\n",
            "Epoch 00037: LearningRateScheduler reducing learning rate to 0.0001643989873053573.\n",
            "\n",
            "Epoch 00038: LearningRateScheduler reducing learning rate to 0.00016222142113076255.\n",
            "\n",
            "Epoch 00039: LearningRateScheduler reducing learning rate to 0.00016012815380508712.\n",
            "\n",
            "Epoch 00040: LearningRateScheduler reducing learning rate to 0.00015811388300841897.\n",
            "\n",
            "Epoch 00041: LearningRateScheduler reducing learning rate to 0.00015617376188860606.\n",
            "\n",
            "Epoch 00042: LearningRateScheduler reducing learning rate to 0.00015430334996209192.\n",
            "\n",
            "Epoch 00043: LearningRateScheduler reducing learning rate to 0.00015249857033260467.\n",
            "\n",
            "Epoch 00044: LearningRateScheduler reducing learning rate to 0.00015075567228888182.\n",
            "\n",
            "Epoch 00045: LearningRateScheduler reducing learning rate to 0.00014907119849998598.\n"
          ],
          "name": "stdout"
        }
      ]
    },
    {
      "cell_type": "markdown",
      "metadata": {
        "id": "jeDI3ue0GE8P"
      },
      "source": [
        "### SGD"
      ]
    },
    {
      "cell_type": "code",
      "metadata": {
        "id": "_HyxVM7ZUv5S",
        "colab": {
          "base_uri": "https://localhost:8080/",
          "height": 295
        },
        "outputId": "1213fb91-175a-4cf6-8135-24a5dce2e974"
      },
      "source": [
        "accuracy_result(model_history[\"SGD\"])"
      ],
      "execution_count": 13,
      "outputs": [
        {
          "output_type": "display_data",
          "data": {
            "image/png": "[encoded data removed]",
            "text/plain": [
              "<Figure size 432x288 with 1 Axes>"
            ]
          },
          "metadata": {
            "tags": [],
            "needs_background": "light"
          }
        }
      ]
    },
    {
      "cell_type": "code",
      "metadata": {
        "id": "uaUz0k3lVhpa",
        "colab": {
          "base_uri": "https://localhost:8080/",
          "height": 295
        },
        "outputId": "a96f06cb-ac94-49ba-b35d-07dffa3d8345"
      },
      "source": [
        "loss_result(model_history[\"SGD\"])"
      ],
      "execution_count": 14,
      "outputs": [
        {
          "output_type": "display_data",
          "data": {
            "image/png": "[encoded data removed]",
            "text/plain": [
              "<Figure size 432x288 with 1 Axes>"
            ]
          },
          "metadata": {
            "tags": [],
            "needs_background": "light"
          }
        }
      ]
    },
    {
      "cell_type": "code",
      "metadata": {
        "id": "aehRb9ZlVU5P",
        "colab": {
          "base_uri": "https://localhost:8080/"
        },
        "outputId": "aeba3c43-9d51-451d-e219-5dfc3dbb8cee"
      },
      "source": [
        "# Model evaluation.\n",
        "print(\"Evaluate on test data\")\n",
        "results = model_config[\"SGD\"].evaluate(x_test, y_test, batch_size=BATCH_SIZE)\n",
        "print(\"test loss, test acc:\", results)"
      ],
      "execution_count": 15,
      "outputs": [
        {
          "output_type": "stream",
          "text": [
            "Evaluate on test data\n",
            "79/79 [==============================] - 0s 2ms/step - loss: 116.4296 - accuracy: 0.6030\n",
            "test loss, test acc: [116.42963409423828, 0.6029999852180481]\n"
          ],
          "name": "stdout"
        }
      ]
    },
    {
      "cell_type": "markdown",
      "metadata": {
        "id": "orAQxv_rSF7E"
      },
      "source": [
        "### Nesterov Momentum SGD"
      ]
    },
    {
      "cell_type": "code",
      "metadata": {
        "id": "zpOLCgQ_V0Cg",
        "colab": {
          "base_uri": "https://localhost:8080/",
          "height": 295
        },
        "outputId": "6368d22d-322a-4cc9-9b2e-535ab82b692a"
      },
      "source": [
        "accuracy_result(model_history[\"Nesterov\"])"
      ],
      "execution_count": 16,
      "outputs": [
        {
          "output_type": "display_data",
          "data": {
            "image/png": "[encoded data removed]",
            "text/plain": [
              "<Figure size 432x288 with 1 Axes>"
            ]
          },
          "metadata": {
            "tags": [],
            "needs_background": "light"
          }
        }
      ]
    },
    {
      "cell_type": "code",
      "metadata": {
        "id": "Oyj5UuI4V0Cg",
        "colab": {
          "base_uri": "https://localhost:8080/",
          "height": 295
        },
        "outputId": "1444fbb8-b605-4a4a-b5a1-4e38b61c4045"
      },
      "source": [
        "loss_result(model_history[\"Nesterov\"])"
      ],
      "execution_count": 17,
      "outputs": [
        {
          "output_type": "display_data",
          "data": {
            "image/png": "[encoded data removed]",
            "text/plain": [
              "<Figure size 432x288 with 1 Axes>"
            ]
          },
          "metadata": {
            "tags": [],
            "needs_background": "light"
          }
        }
      ]
    },
    {
      "cell_type": "code",
      "metadata": {
        "id": "KkwgfOvKV0Ch",
        "colab": {
          "base_uri": "https://localhost:8080/"
        },
        "outputId": "7d7a5203-6d20-4027-f295-a1b6300eb07c"
      },
      "source": [
        "# Model evaluation.\n",
        "print(\"Evaluate on test data\")\n",
        "results = model_config[\"Nesterov\"].evaluate(x_test, y_test, batch_size=BATCH_SIZE)\n",
        "print(\"test loss, test acc:\", results)"
      ],
      "execution_count": 18,
      "outputs": [
        {
          "output_type": "stream",
          "text": [
            "Evaluate on test data\n",
            "79/79 [==============================] - 0s 2ms/step - loss: 116.3552 - accuracy: 0.6025\n",
            "test loss, test acc: [116.35517120361328, 0.6025000214576721]\n"
          ],
          "name": "stdout"
        }
      ]
    },
    {
      "cell_type": "markdown",
      "metadata": {
        "id": "EuI3TP6kSLDw"
      },
      "source": [
        "### AdaGrad"
      ]
    },
    {
      "cell_type": "code",
      "metadata": {
        "id": "L4B1_42yWCpu",
        "colab": {
          "base_uri": "https://localhost:8080/",
          "height": 295
        },
        "outputId": "549f845f-84de-489d-f183-6c433463a15a"
      },
      "source": [
        "accuracy_result(model_history[\"AdaGrad\"])"
      ],
      "execution_count": 19,
      "outputs": [
        {
          "output_type": "display_data",
          "data": {
            "image/png": "[encoded data removed]",
            "text/plain": [
              "<Figure size 432x288 with 1 Axes>"
            ]
          },
          "metadata": {
            "tags": [],
            "needs_background": "light"
          }
        }
      ]
    },
    {
      "cell_type": "code",
      "metadata": {
        "id": "ogzBRlXZWCpv",
        "colab": {
          "base_uri": "https://localhost:8080/",
          "height": 295
        },
        "outputId": "8749268e-b6b0-4c34-967f-14d7b09acbae"
      },
      "source": [
        "loss_result(model_history[\"AdaGrad\"])"
      ],
      "execution_count": 20,
      "outputs": [
        {
          "output_type": "display_data",
          "data": {
            "image/png": "[encoded data removed]",
            "text/plain": [
              "<Figure size 432x288 with 1 Axes>"
            ]
          },
          "metadata": {
            "tags": [],
            "needs_background": "light"
          }
        }
      ]
    },
    {
      "cell_type": "code",
      "metadata": {
        "id": "XvyWkYxMWCpv",
        "colab": {
          "base_uri": "https://localhost:8080/"
        },
        "outputId": "1d35aee4-495d-4eeb-b8bd-64ab80c10f44"
      },
      "source": [
        "# Model evaluation.\n",
        "print(\"Evaluate on test data\")\n",
        "results = model_config[\"AdaGrad\"].evaluate(x_test, y_test, batch_size=BATCH_SIZE)\n",
        "print(\"test loss, test acc:\", results)"
      ],
      "execution_count": 21,
      "outputs": [
        {
          "output_type": "stream",
          "text": [
            "Evaluate on test data\n",
            "79/79 [==============================] - 0s 2ms/step - loss: 123.4209 - accuracy: 0.1272\n",
            "test loss, test acc: [123.42085266113281, 0.12720000743865967]\n"
          ],
          "name": "stdout"
        }
      ]
    },
    {
      "cell_type": "markdown",
      "metadata": {
        "id": "qyT0-AaBSKos"
      },
      "source": [
        "### Adam"
      ]
    },
    {
      "cell_type": "code",
      "metadata": {
        "id": "gjARDJj8aQHx",
        "colab": {
          "base_uri": "https://localhost:8080/",
          "height": 295
        },
        "outputId": "9ef87569-f821-4713-cf09-34b561d6f658"
      },
      "source": [
        "accuracy_result(model_history[\"ADAM\"])"
      ],
      "execution_count": 22,
      "outputs": [
        {
          "output_type": "display_data",
          "data": {
            "image/png": "[encoded data removed]",
            "text/plain": [
              "<Figure size 432x288 with 1 Axes>"
            ]
          },
          "metadata": {
            "tags": [],
            "needs_background": "light"
          }
        }
      ]
    },
    {
      "cell_type": "code",
      "metadata": {
        "id": "hUyM24WMaQH5",
        "colab": {
          "base_uri": "https://localhost:8080/",
          "height": 295
        },
        "outputId": "fd9c2737-b3b0-4794-c69b-8b1a3ff973dc"
      },
      "source": [
        "loss_result(model_history[\"ADAM\"])"
      ],
      "execution_count": 23,
      "outputs": [
        {
          "output_type": "display_data",
          "data": {
            "image/png": "[encoded data removed]",
            "text/plain": [
              "<Figure size 432x288 with 1 Axes>"
            ]
          },
          "metadata": {
            "tags": [],
            "needs_background": "light"
          }
        }
      ]
    },
    {
      "cell_type": "code",
      "metadata": {
        "id": "v3piP8EQaQH6",
        "colab": {
          "base_uri": "https://localhost:8080/"
        },
        "outputId": "56f8fd6e-41f1-4306-9e4b-c2ca527aa34a"
      },
      "source": [
        "# Model evaluation.\n",
        "print(\"Evaluate on test data\")\n",
        "results = model_config[\"ADAM\"].evaluate(x_test, y_test, batch_size=BATCH_SIZE)\n",
        "print(\"test loss, test acc:\", results)"
      ],
      "execution_count": 24,
      "outputs": [
        {
          "output_type": "stream",
          "text": [
            "Evaluate on test data\n",
            "79/79 [==============================] - 0s 2ms/step - loss: 114.6041 - accuracy: 0.8918\n",
            "test loss, test acc: [114.60408782958984, 0.8917999863624573]\n"
          ],
          "name": "stdout"
        }
      ]
    }
  ]
}