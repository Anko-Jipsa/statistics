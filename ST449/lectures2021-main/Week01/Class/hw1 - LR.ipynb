{
 "cells": [
  {
   "cell_type": "markdown",
   "metadata": {
    "colab_type": "text",
    "id": "6r2jIINcVPxx"
   },
   "source": [
    "## Import libraries"
   ]
  },
  {
   "cell_type": "code",
   "execution_count": null,
   "metadata": {
    "colab": {},
    "colab_type": "code",
    "id": "lInyaNoRVIcD"
   },
   "outputs": [],
   "source": [
    "import numpy as np\n",
    "import tensorflow as tf\n",
    "import matplotlib.pyplot as plt"
   ]
  },
  {
   "cell_type": "markdown",
   "metadata": {},
   "source": [
    "## Fix seed"
   ]
  },
  {
   "cell_type": "code",
   "execution_count": null,
   "metadata": {},
   "outputs": [],
   "source": [
    "# Set a random seed\n",
    "np.random.seed(1)"
   ]
  },
  {
   "cell_type": "markdown",
   "metadata": {
    "colab_type": "text",
    "id": "UnRF6RCsVVDf"
   },
   "source": [
    "## Generate and visualise data"
   ]
  },
  {
   "cell_type": "code",
   "execution_count": null,
   "metadata": {
    "colab": {
     "base_uri": "https://localhost:8080/",
     "height": 298
    },
    "colab_type": "code",
    "id": "tycHrJGfVO_D",
    "outputId": "bd4b155b-ce34-4a12-c826-65ae934d6083"
   },
   "outputs": [],
   "source": [
    "x1 = np.random.normal(-4, 2, 1000)\n",
    "x2 = np.random.normal(4, 2, 1000)\n",
    "\n",
    "xs = np.append(x1, x2)\n",
    "ys = np.asarray([0.0] * len(x1) + [1.0] * len(x2))\n",
    "\n",
    "xs = tf.cast(xs, tf.float32)\n",
    "ys = tf.cast(ys, tf.float32)\n",
    "\n",
    "plt.scatter(xs, ys)\n",
    "plt.title('DATA: x vs y')"
   ]
  },
  {
   "cell_type": "markdown",
   "metadata": {
    "colab_type": "text",
    "id": "xMeogb2IWC6-"
   },
   "source": [
    "## Build the model\n",
    "\n",
    "Check the documentation on tf.sigmoid\n",
    "https://www.tensorflow.org/api_docs/python/tf/math/sigmoid\n",
    "\n",
    "More information on graphs and tf.functions\n",
    "https://www.tensorflow.org/guide/intro_to_graphs"
   ]
  },
  {
   "cell_type": "code",
   "execution_count": null,
   "metadata": {},
   "outputs": [],
   "source": [
    "# Initial weight and bias\n",
    "W = tf.Variable(tf.constant(0.5), name=\"W\")\n",
    "b = tf.Variable(tf.constant(-1.0), name=\"b\")\n",
    "\n",
    "# Logistic regression model\n",
    "@tf.function\n",
    "def lr_model(x):\n",
    "    return tf.sigmoid(W * x + b)"
   ]
  },
  {
   "cell_type": "markdown",
   "metadata": {},
   "source": [
    "## Select an optimizer"
   ]
  },
  {
   "cell_type": "code",
   "execution_count": null,
   "metadata": {},
   "outputs": [],
   "source": [
    "optimiser = tf.optimizers.SGD(learning_rate=0.001)"
   ]
  },
  {
   "cell_type": "markdown",
   "metadata": {},
   "source": [
    "## Train the model"
   ]
  },
  {
   "cell_type": "code",
   "execution_count": 6,
   "metadata": {},
   "outputs": [],
   "source": [
    "epochs = 3000\n",
    "loss_list = []\n",
    "\n",
    "for iter in range(epochs):\n",
    "    with tf.GradientTape() as tape: \n",
    "        # MSE loss\n",
    "        y_hat = lr_model(xs)\n",
    "        loss = tf.reduce_mean(-ys * tf.math.log(y_hat) - (1 - ys) * tf.math.log(1 - y_hat))\n",
    "     \n",
    "    grads = tape.gradient(loss, [W, b]) \n",
    "    optimiser.apply_gradients(zip(grads, [W, b]))\n",
    "    loss_list.append(loss)                            "
   ]
  },
  {
   "cell_type": "markdown",
   "metadata": {
    "colab_type": "text",
    "id": "jwcYm6D1XExF"
   },
   "source": [
    "## Plot loss"
   ]
  },
  {
   "cell_type": "code",
   "execution_count": 7,
   "metadata": {
    "colab": {
     "base_uri": "https://localhost:8080/",
     "height": 298
    },
    "colab_type": "code",
    "id": "saoSz2fRXENz",
    "outputId": "3c4763d0-06e2-4ad9-833a-b18b3e9172ef"
   },
   "outputs": [
    {
     "data": {
      "text/plain": [
       "Text(0.5, 1.0, 'Loss')"
      ]
     },
     "execution_count": 7,
     "metadata": {},
     "output_type": "execute_result"
    },
    {
     "data": {
      "image/png": "[encoded data removed]",
      "text/plain": [
       "<Figure size 432x288 with 1 Axes>"
      ]
     },
     "metadata": {
      "needs_background": "light"
     },
     "output_type": "display_data"
    }
   ],
   "source": [
    "plt.plot(loss_list)\n",
    "plt.title('Loss')"
   ]
  },
  {
   "cell_type": "markdown",
   "metadata": {
    "colab_type": "text",
    "id": "vzNJ_AbFXcwR"
   },
   "source": [
    "## Plot fitted line"
   ]
  },
  {
   "cell_type": "code",
   "execution_count": 7,
   "metadata": {
    "colab": {
     "base_uri": "https://localhost:8080/",
     "height": 296
    },
    "colab_type": "code",
    "id": "GS9mEsVvXkcV",
    "outputId": "be801207-5656-442a-d9fe-bbbe01a5c3d2"
   },
   "outputs": [
    {
     "data": {
      "text/plain": [
       "Text(0, 0.5, 'y')"
      ]
     },
     "execution_count": 7,
     "metadata": {},
     "output_type": "execute_result"
    },
    {
     "data": {
      "image/png": "[encoded data removed]",
      "text/plain": [
       "<Figure size 432x288 with 1 Axes>"
      ]
     },
     "metadata": {
      "needs_background": "light"
     },
     "output_type": "display_data"
    }
   ],
   "source": [
    "all_xs = np.linspace(-10., 10., 100)\n",
    "predicted_vals = tf.sigmoid(all_xs * W + b)\n",
    "plt.plot(all_xs, predicted_vals, 'r')\n",
    "plt.scatter(xs, ys)\n",
    "plt.xlabel('x')\n",
    "plt.ylabel('y')"
   ]
  },
  {
   "cell_type": "code",
   "execution_count": null,
   "metadata": {},
   "outputs": [],
   "source": []
  }
 ],
 "metadata": {
  "colab": {
   "collapsed_sections": [],
   "name": "HW1_logistic_regression.ipynb",
   "provenance": []
  },
  "kernelspec": {
   "display_name": "Python 3",
   "language": "python",
   "name": "python3"
  },
  "language_info": {
   "codemirror_mode": {
    "name": "ipython",
    "version": 3
   },
   "file_extension": ".py",
   "mimetype": "text/x-python",
   "name": "python",
   "nbconvert_exporter": "python",
   "pygments_lexer": "ipython3",
   "version": "3.8.3"
  }
 },
 "nbformat": 4,
 "nbformat_minor": 1
}
