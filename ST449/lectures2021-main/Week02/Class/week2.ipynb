{
 "cells": [
  {
   "cell_type": "markdown",
   "metadata": {},
   "source": [
    "The goal to to implement, train, and evaluate a neural network that solves the XOR problem."
   ]
  },
  {
   "cell_type": "code",
   "execution_count": 1,
   "metadata": {},
   "outputs": [],
   "source": [
    "import tensorflow as tf\n",
    "import numpy as np\n",
    "import matplotlib.pyplot as plt"
   ]
  },
  {
   "cell_type": "markdown",
   "metadata": {},
   "source": [
    "## XOR problem"
   ]
  },
  {
   "cell_type": "code",
   "execution_count": 2,
   "metadata": {},
   "outputs": [],
   "source": [
    "x = np.array([[0.0, 0.0], [0.0, 1.0], [1.0, 0.0], [1.0, 1.0]])\n",
    "y = np.array([[0.0], [1.0], [1.0], [0.0]])\n",
    "x = tf.cast(x, tf.float32)\n",
    "y = tf.cast(y, tf.float32)"
   ]
  },
  {
   "cell_type": "code",
   "execution_count": 6,
   "metadata": {},
   "outputs": [
    {
     "data": {
      "text/plain": "<Figure size 432x288 with 1 Axes>",
      "image/png": "[encoded data removed]"
     },
     "metadata": {
      "needs_background": "light"
     },
     "output_type": "display_data"
    }
   ],
   "source": [
    "def plot_xor(x):\n",
    "    plt.plot([x[0, 0], x[3, 0]], [x[0, 1], x[3, 1]], 'rs')\n",
    "    plt.plot([x[1, 0], x[2, 0]], [x[1, 1], x[2, 1]], 'bs')\n",
    "    plt.title('XOR x data')\n",
    "    plt.show()\n",
    "plot_xor(x)"
   ]
  },
  {
   "cell_type": "markdown",
   "metadata": {},
   "source": [
    "## depth-2 NN"
   ]
  },
  {
   "cell_type": "markdown",
   "metadata": {},
   "source": [
    "### Build the model"
   ]
  },
  {
   "cell_type": "code",
   "execution_count": 4,
   "metadata": {},
   "outputs": [],
   "source": [
    "xor_network = tf.keras.Sequential([\n",
    "    tf.keras.layers.Dense(2, activation='relu',use_bias=False, kernel_initializer=tf.random_normal_initializer(seed=100, stddev=0.1), dtype='float32'),\n",
    "    tf.keras.layers.Dense(1, use_bias=False, kernel_initializer=tf.random_normal_initializer(seed=100, stddev=0.1), dtype='float32'),\n",
    "])"
   ]
  },
  {
   "cell_type": "markdown",
   "metadata": {},
   "source": [
    "Note the restriction applied to initialization - if y_hat is too much, then the log in loss will go to infinity. We need y_hat between -1 and 1, and then use sigmoid to make it in [0,1]."
   ]
  },
  {
   "cell_type": "markdown",
   "metadata": {},
   "source": [
    "### Implement the loss"
   ]
  },
  {
   "cell_type": "code",
   "execution_count": 5,
   "metadata": {},
   "outputs": [],
   "source": [
    "def cross_entropy(y, y_hat):\n",
    "    loss = 0\n",
    "    m = y.shape[0]\n",
    "    for i in range(m):\n",
    "        if y[i] == 1.0:\n",
    "            loss += -tf.math.log(y_hat[i])\n",
    "        else:\n",
    "            loss += -tf.math.log(1.0 - y_hat[i])\n",
    "    m = tf.cast(m, tf.float32)\n",
    "    return loss / m"
   ]
  },
  {
   "cell_type": "markdown",
   "metadata": {},
   "source": [
    "### Select an optimizer"
   ]
  },
  {
   "cell_type": "code",
   "execution_count": 6,
   "metadata": {},
   "outputs": [],
   "source": [
    "optimiser = tf.optimizers.SGD(learning_rate=1e-1)"
   ]
  },
  {
   "cell_type": "markdown",
   "metadata": {},
   "source": [
    "## Training NN"
   ]
  },
  {
   "cell_type": "code",
   "execution_count": 7,
   "metadata": {},
   "outputs": [],
   "source": [
    "epochs = 100\n",
    "loss_list = []\n",
    "for iter in range(epochs):\n",
    "    with tf.GradientTape() as tape: \n",
    "        y_hat = xor_network(x, training=True)\n",
    "        y_predict = tf.nn.sigmoid(y_hat)\n",
    "        loss = cross_entropy(y, y_predict) \n",
    "    grads = tape.gradient(loss, xor_network.trainable_variables) \n",
    "    optimiser.apply_gradients(zip(grads, xor_network.trainable_variables)) \n",
    "    loss_list.append(loss)"
   ]
  },
  {
   "cell_type": "code",
   "execution_count": 8,
   "metadata": {},
   "outputs": [
    {
     "data": {
      "text/plain": [
       "Text(0.5, 1.0, 'Loss')"
      ]
     },
     "execution_count": 8,
     "metadata": {},
     "output_type": "execute_result"
    },
    {
     "data": {
      "image/png": "[encoded data removed]",
      "text/plain": [
       "<Figure size 432x288 with 1 Axes>"
      ]
     },
     "metadata": {
      "needs_background": "light"
     },
     "output_type": "display_data"
    }
   ],
   "source": [
    "plt.plot(loss_list)\n",
    "plt.title('Loss')"
   ]
  },
  {
   "cell_type": "code",
   "execution_count": null,
   "metadata": {},
   "outputs": [],
   "source": []
  }
 ],
 "metadata": {
  "kernelspec": {
   "display_name": "Python 3",
   "language": "python",
   "name": "python3"
  },
  "language_info": {
   "codemirror_mode": {
    "name": "ipython",
    "version": 3
   },
   "file_extension": ".py",
   "mimetype": "text/x-python",
   "name": "python",
   "nbconvert_exporter": "python",
   "pygments_lexer": "ipython3",
   "version": "3.8.6"
  }
 },
 "nbformat": 4,
 "nbformat_minor": 4
}